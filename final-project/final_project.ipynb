{
  "nbformat": 4,
  "nbformat_minor": 0,
  "metadata": {
    "colab": {
      "name": "final-project.ipynb",
      "provenance": [],
      "collapsed_sections": [],
      "authorship_tag": "ABX9TyOFzQZ1tmjeGEt4EbYnM91A",
      "include_colab_link": true
    },
    "kernelspec": {
      "name": "python3",
      "display_name": "Python 3"
    },
    "language_info": {
      "name": "python"
    }
  },
  "cells": [
    {
      "cell_type": "markdown",
      "metadata": {
        "id": "view-in-github",
        "colab_type": "text"
      },
      "source": [
        "<a href=\"https://colab.research.google.com/github/MrKeeplearning/dap-course/blob/main/final-project/final_project.ipynb\" target=\"_parent\"><img src=\"https://colab.research.google.com/assets/colab-badge.svg\" alt=\"Open In Colab\"/></a>"
      ]
    },
    {
      "cell_type": "markdown",
      "metadata": {
        "id": "un8ugpngghA3"
      },
      "source": [
        "Load Kaggle Datasets directly into Google Colab"
      ]
    },
    {
      "cell_type": "code",
      "metadata": {
        "colab": {
          "base_uri": "https://localhost:8080/"
        },
        "id": "R0gVrI0SePm8",
        "outputId": "e0251e20-f6ea-4fb9-dae9-ff9ddc9cf73c"
      },
      "source": [
        "! pip install kaggle"
      ],
      "execution_count": 10,
      "outputs": [
        {
          "output_type": "stream",
          "name": "stdout",
          "text": [
            "Requirement already satisfied: kaggle in /usr/local/lib/python3.7/dist-packages (1.5.12)\n",
            "Requirement already satisfied: certifi in /usr/local/lib/python3.7/dist-packages (from kaggle) (2021.10.8)\n",
            "Requirement already satisfied: requests in /usr/local/lib/python3.7/dist-packages (from kaggle) (2.23.0)\n",
            "Requirement already satisfied: python-slugify in /usr/local/lib/python3.7/dist-packages (from kaggle) (5.0.2)\n",
            "Requirement already satisfied: six>=1.10 in /usr/local/lib/python3.7/dist-packages (from kaggle) (1.15.0)\n",
            "Requirement already satisfied: python-dateutil in /usr/local/lib/python3.7/dist-packages (from kaggle) (2.8.2)\n",
            "Requirement already satisfied: urllib3 in /usr/local/lib/python3.7/dist-packages (from kaggle) (1.24.3)\n",
            "Requirement already satisfied: tqdm in /usr/local/lib/python3.7/dist-packages (from kaggle) (4.62.3)\n",
            "Requirement already satisfied: text-unidecode>=1.3 in /usr/local/lib/python3.7/dist-packages (from python-slugify->kaggle) (1.3)\n",
            "Requirement already satisfied: chardet<4,>=3.0.2 in /usr/local/lib/python3.7/dist-packages (from requests->kaggle) (3.0.4)\n",
            "Requirement already satisfied: idna<3,>=2.5 in /usr/local/lib/python3.7/dist-packages (from requests->kaggle) (2.10)\n"
          ]
        }
      ]
    },
    {
      "cell_type": "code",
      "metadata": {
        "id": "ksyUh4Z8ecZE"
      },
      "source": [
        "! mkdir ~/.kaggle"
      ],
      "execution_count": 11,
      "outputs": []
    },
    {
      "cell_type": "code",
      "metadata": {
        "id": "YSAksLs9efeu"
      },
      "source": [
        "! cp kaggle.json ~/.kaggle/"
      ],
      "execution_count": 12,
      "outputs": []
    },
    {
      "cell_type": "code",
      "metadata": {
        "id": "NjdYM_6deksV"
      },
      "source": [
        "! chmod 600 ~/.kaggle/kaggle.json"
      ],
      "execution_count": 13,
      "outputs": []
    },
    {
      "cell_type": "code",
      "metadata": {
        "colab": {
          "base_uri": "https://localhost:8080/"
        },
        "id": "nTN9E_gTeo8z",
        "outputId": "56af2d16-5e3d-415d-95c6-b9619f1dee9f"
      },
      "source": [
        "! kaggle datasets download mazenramadan/imdb-most-popular-films-and-series"
      ],
      "execution_count": 14,
      "outputs": [
        {
          "output_type": "stream",
          "name": "stdout",
          "text": [
            "Downloading imdb-most-popular-films-and-series.zip to /content\n",
            "\r  0% 0.00/167k [00:00<?, ?B/s]\n",
            "\r100% 167k/167k [00:00<00:00, 64.8MB/s]\n"
          ]
        }
      ]
    },
    {
      "cell_type": "code",
      "metadata": {
        "colab": {
          "base_uri": "https://localhost:8080/"
        },
        "id": "vF7WSddUibMm",
        "outputId": "1f85bd0c-dc2e-4570-9b58-60a4ebad7466"
      },
      "source": [
        "# Extract 'imdb.csv'\n",
        "\n",
        "from zipfile import ZipFile\n",
        "file_name = 'imdb-most-popular-films-and-series.zip'\n",
        "with ZipFile(file_name, 'r') as zip:\n",
        "  zip.extractall()\n",
        "  print('Done')"
      ],
      "execution_count": 20,
      "outputs": [
        {
          "output_type": "stream",
          "name": "stdout",
          "text": [
            "Done\n"
          ]
        }
      ]
    },
    {
      "cell_type": "code",
      "metadata": {
        "id": "xfopPmv2i66D"
      },
      "source": [
        "import pandas as pd\n",
        "import numpy as np"
      ],
      "execution_count": 22,
      "outputs": []
    },
    {
      "cell_type": "code",
      "metadata": {
        "id": "8h1Spc4pjThH"
      },
      "source": [
        "df = pd.read_csv('imdb.csv')"
      ],
      "execution_count": 23,
      "outputs": []
    },
    {
      "cell_type": "code",
      "metadata": {
        "colab": {
          "base_uri": "https://localhost:8080/"
        },
        "id": "SIKmJZe9kBfp",
        "outputId": "c7dc407a-235a-42ec-ee3b-79522f1db5cf"
      },
      "source": [
        "df.info()"
      ],
      "execution_count": 24,
      "outputs": [
        {
          "output_type": "stream",
          "name": "stdout",
          "text": [
            "<class 'pandas.core.frame.DataFrame'>\n",
            "RangeIndex: 6178 entries, 0 to 6177\n",
            "Data columns (total 14 columns):\n",
            " #   Column       Non-Null Count  Dtype \n",
            "---  ------       --------------  ----- \n",
            " 0   Name         6178 non-null   object\n",
            " 1   Date         6178 non-null   int64 \n",
            " 2   Rate         6178 non-null   object\n",
            " 3   Votes        6178 non-null   object\n",
            " 4   Genre        6178 non-null   object\n",
            " 5   Duration     6178 non-null   object\n",
            " 6   Type         6178 non-null   object\n",
            " 7   Certificate  6178 non-null   object\n",
            " 8   Episodes     6178 non-null   object\n",
            " 9   Nudity       6178 non-null   object\n",
            " 10  Violence     6178 non-null   object\n",
            " 11  Profanity    6178 non-null   object\n",
            " 12  Alcohol      6178 non-null   object\n",
            " 13  Frightening  6178 non-null   object\n",
            "dtypes: int64(1), object(13)\n",
            "memory usage: 675.8+ KB\n"
          ]
        }
      ]
    },
    {
      "cell_type": "code",
      "metadata": {
        "colab": {
          "base_uri": "https://localhost:8080/",
          "height": 293
        },
        "id": "p04ZfdktkCan",
        "outputId": "c74e40c8-efd6-4f12-de84-477f4f926cea"
      },
      "source": [
        "df.head()"
      ],
      "execution_count": 25,
      "outputs": [
        {
          "output_type": "execute_result",
          "data": {
            "text/html": [
              "<div>\n",
              "<style scoped>\n",
              "    .dataframe tbody tr th:only-of-type {\n",
              "        vertical-align: middle;\n",
              "    }\n",
              "\n",
              "    .dataframe tbody tr th {\n",
              "        vertical-align: top;\n",
              "    }\n",
              "\n",
              "    .dataframe thead th {\n",
              "        text-align: right;\n",
              "    }\n",
              "</style>\n",
              "<table border=\"1\" class=\"dataframe\">\n",
              "  <thead>\n",
              "    <tr style=\"text-align: right;\">\n",
              "      <th></th>\n",
              "      <th>Name</th>\n",
              "      <th>Date</th>\n",
              "      <th>Rate</th>\n",
              "      <th>Votes</th>\n",
              "      <th>Genre</th>\n",
              "      <th>Duration</th>\n",
              "      <th>Type</th>\n",
              "      <th>Certificate</th>\n",
              "      <th>Episodes</th>\n",
              "      <th>Nudity</th>\n",
              "      <th>Violence</th>\n",
              "      <th>Profanity</th>\n",
              "      <th>Alcohol</th>\n",
              "      <th>Frightening</th>\n",
              "    </tr>\n",
              "  </thead>\n",
              "  <tbody>\n",
              "    <tr>\n",
              "      <th>0</th>\n",
              "      <td>No Time to Die</td>\n",
              "      <td>2021</td>\n",
              "      <td>7.6</td>\n",
              "      <td>107,163</td>\n",
              "      <td>Action, Adventure, Thriller</td>\n",
              "      <td>163</td>\n",
              "      <td>Film</td>\n",
              "      <td>PG-13</td>\n",
              "      <td>-</td>\n",
              "      <td>Mild</td>\n",
              "      <td>Moderate</td>\n",
              "      <td>Mild</td>\n",
              "      <td>Mild</td>\n",
              "      <td>Moderate</td>\n",
              "    </tr>\n",
              "    <tr>\n",
              "      <th>1</th>\n",
              "      <td>The Guilty</td>\n",
              "      <td>2021</td>\n",
              "      <td>6.3</td>\n",
              "      <td>64,375</td>\n",
              "      <td>Crime, Drama, Thriller</td>\n",
              "      <td>90</td>\n",
              "      <td>Film</td>\n",
              "      <td>R</td>\n",
              "      <td>-</td>\n",
              "      <td>None</td>\n",
              "      <td>None</td>\n",
              "      <td>Severe</td>\n",
              "      <td>None</td>\n",
              "      <td>Moderate</td>\n",
              "    </tr>\n",
              "    <tr>\n",
              "      <th>2</th>\n",
              "      <td>The Many Saints of Newark</td>\n",
              "      <td>2021</td>\n",
              "      <td>6.4</td>\n",
              "      <td>27,145</td>\n",
              "      <td>Crime, Drama</td>\n",
              "      <td>120</td>\n",
              "      <td>Film</td>\n",
              "      <td>R</td>\n",
              "      <td>-</td>\n",
              "      <td>Moderate</td>\n",
              "      <td>Severe</td>\n",
              "      <td>Severe</td>\n",
              "      <td>Moderate</td>\n",
              "      <td>Moderate</td>\n",
              "    </tr>\n",
              "    <tr>\n",
              "      <th>3</th>\n",
              "      <td>Venom: Let There Be Carnage</td>\n",
              "      <td>2021</td>\n",
              "      <td>6.4</td>\n",
              "      <td>30,443</td>\n",
              "      <td>Action, Adventure, Sci-Fi</td>\n",
              "      <td>97</td>\n",
              "      <td>Film</td>\n",
              "      <td>PG-13</td>\n",
              "      <td>-</td>\n",
              "      <td>None</td>\n",
              "      <td>Moderate</td>\n",
              "      <td>Moderate</td>\n",
              "      <td>Mild</td>\n",
              "      <td>Moderate</td>\n",
              "    </tr>\n",
              "    <tr>\n",
              "      <th>4</th>\n",
              "      <td>Dune</td>\n",
              "      <td>2021</td>\n",
              "      <td>8.3</td>\n",
              "      <td>84,636</td>\n",
              "      <td>Action, Adventure, Drama</td>\n",
              "      <td>155</td>\n",
              "      <td>Film</td>\n",
              "      <td>PG-13</td>\n",
              "      <td>-</td>\n",
              "      <td>None</td>\n",
              "      <td>Moderate</td>\n",
              "      <td>None</td>\n",
              "      <td>Mild</td>\n",
              "      <td>Moderate</td>\n",
              "    </tr>\n",
              "  </tbody>\n",
              "</table>\n",
              "</div>"
            ],
            "text/plain": [
              "                          Name  Date Rate  ... Profanity   Alcohol Frightening\n",
              "0               No Time to Die  2021  7.6  ...      Mild      Mild    Moderate\n",
              "1                   The Guilty  2021  6.3  ...    Severe      None    Moderate\n",
              "2    The Many Saints of Newark  2021  6.4  ...    Severe  Moderate    Moderate\n",
              "3  Venom: Let There Be Carnage  2021  6.4  ...  Moderate      Mild    Moderate\n",
              "4                         Dune  2021  8.3  ...      None      Mild    Moderate\n",
              "\n",
              "[5 rows x 14 columns]"
            ]
          },
          "metadata": {},
          "execution_count": 25
        }
      ]
    },
    {
      "cell_type": "code",
      "metadata": {
        "id": "rubUgdezkFUP"
      },
      "source": [
        ""
      ],
      "execution_count": null,
      "outputs": []
    }
  ]
}