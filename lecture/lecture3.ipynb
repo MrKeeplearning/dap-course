{
  "nbformat": 4,
  "nbformat_minor": 0,
  "metadata": {
    "colab": {
      "name": "lecture3.ipynb",
      "provenance": [],
      "collapsed_sections": [],
      "authorship_tag": "ABX9TyO/jTTg8Nz27OMHaGPGLkkb",
      "include_colab_link": true
    },
    "kernelspec": {
      "name": "python3",
      "display_name": "Python 3"
    },
    "language_info": {
      "name": "python"
    }
  },
  "cells": [
    {
      "cell_type": "markdown",
      "metadata": {
        "id": "view-in-github",
        "colab_type": "text"
      },
      "source": [
        "<a href=\"https://colab.research.google.com/github/MrKeeplearning/dap-course/blob/main/lecture/lecture3.ipynb\" target=\"_parent\"><img src=\"https://colab.research.google.com/assets/colab-badge.svg\" alt=\"Open In Colab\"/></a>"
      ]
    },
    {
      "cell_type": "markdown",
      "metadata": {
        "id": "Uc9LYYAyGQHj"
      },
      "source": [
        "# CH03. Statistics"
      ]
    },
    {
      "cell_type": "markdown",
      "metadata": {
        "id": "OnMYdwp-Gbmx"
      },
      "source": [
        "## 2. Descriptive Statistics"
      ]
    },
    {
      "cell_type": "markdown",
      "metadata": {
        "id": "hcQQI5PoGs9W"
      },
      "source": [
        "### 2.1. Central Tendency"
      ]
    },
    {
      "cell_type": "code",
      "metadata": {
        "colab": {
          "base_uri": "https://localhost:8080/",
          "height": 206
        },
        "id": "47WGOFd1G87X",
        "outputId": "88bc397e-5a13-4760-a575-e94c6b91b0db"
      },
      "source": [
        "# Sample Data\n",
        "\n",
        "# Import pandas library\n",
        "import pandas as pd\n",
        "\n",
        "# Create dataframe\n",
        "sample_data = {'name': ['John', 'Alia', 'Ananya', \"Steve\", \"Ben\"],\n",
        "               'gender': ['M', 'F', 'F', 'M', 'M'],\n",
        "               'communication_skill_score': [40, 45, 23, 39, 39],\n",
        "               'quantitative_skill_score': [38, 41, 42, 48, 32]}\n",
        "\n",
        "data = pd.DataFrame(sample_data, columns = ['name', 'gender',\n",
        "                                            'communication_skill_score',\n",
        "                                            'quantitative_skill_score'])\n",
        "data.head()"
      ],
      "execution_count": 1,
      "outputs": [
        {
          "output_type": "execute_result",
          "data": {
            "text/html": [
              "<div>\n",
              "<style scoped>\n",
              "    .dataframe tbody tr th:only-of-type {\n",
              "        vertical-align: middle;\n",
              "    }\n",
              "\n",
              "    .dataframe tbody tr th {\n",
              "        vertical-align: top;\n",
              "    }\n",
              "\n",
              "    .dataframe thead th {\n",
              "        text-align: right;\n",
              "    }\n",
              "</style>\n",
              "<table border=\"1\" class=\"dataframe\">\n",
              "  <thead>\n",
              "    <tr style=\"text-align: right;\">\n",
              "      <th></th>\n",
              "      <th>name</th>\n",
              "      <th>gender</th>\n",
              "      <th>communication_skill_score</th>\n",
              "      <th>quantitative_skill_score</th>\n",
              "    </tr>\n",
              "  </thead>\n",
              "  <tbody>\n",
              "    <tr>\n",
              "      <th>0</th>\n",
              "      <td>John</td>\n",
              "      <td>M</td>\n",
              "      <td>40</td>\n",
              "      <td>38</td>\n",
              "    </tr>\n",
              "    <tr>\n",
              "      <th>1</th>\n",
              "      <td>Alia</td>\n",
              "      <td>F</td>\n",
              "      <td>45</td>\n",
              "      <td>41</td>\n",
              "    </tr>\n",
              "    <tr>\n",
              "      <th>2</th>\n",
              "      <td>Ananya</td>\n",
              "      <td>F</td>\n",
              "      <td>23</td>\n",
              "      <td>42</td>\n",
              "    </tr>\n",
              "    <tr>\n",
              "      <th>3</th>\n",
              "      <td>Steve</td>\n",
              "      <td>M</td>\n",
              "      <td>39</td>\n",
              "      <td>48</td>\n",
              "    </tr>\n",
              "    <tr>\n",
              "      <th>4</th>\n",
              "      <td>Ben</td>\n",
              "      <td>M</td>\n",
              "      <td>39</td>\n",
              "      <td>32</td>\n",
              "    </tr>\n",
              "  </tbody>\n",
              "</table>\n",
              "</div>"
            ],
            "text/plain": [
              "     name gender  communication_skill_score  quantitative_skill_score\n",
              "0    John      M                         40                        38\n",
              "1    Alia      F                         45                        41\n",
              "2  Ananya      F                         23                        42\n",
              "3   Steve      M                         39                        48\n",
              "4     Ben      M                         39                        32"
            ]
          },
          "metadata": {},
          "execution_count": 1
        }
      ]
    },
    {
      "cell_type": "markdown",
      "metadata": {
        "id": "JgVPo8wYICbC"
      },
      "source": [
        "#### Mean"
      ]
    },
    {
      "cell_type": "code",
      "metadata": {
        "colab": {
          "base_uri": "https://localhost:8080/"
        },
        "id": "IeYKCREMINA1",
        "outputId": "0c4a47a4-6d14-42e1-c6de-67dcd3d67535"
      },
      "source": [
        "# find mean of communication_skill_score column\n",
        "data['communication_skill_score'].mean(axis=0) "
      ],
      "execution_count": 2,
      "outputs": [
        {
          "output_type": "execute_result",
          "data": {
            "text/plain": [
              "37.2"
            ]
          },
          "metadata": {},
          "execution_count": 2
        }
      ]
    },
    {
      "cell_type": "markdown",
      "metadata": {
        "id": "kvrkOYllIZXh"
      },
      "source": [
        "#### Median"
      ]
    },
    {
      "cell_type": "code",
      "metadata": {
        "colab": {
          "base_uri": "https://localhost:8080/"
        },
        "id": "Tns48kiGIeeX",
        "outputId": "b5e56c73-edab-4d7a-ebfc-8c22d36616b5"
      },
      "source": [
        "# find median of communication_skill_score column\n",
        "data['communication_skill_score'].median()"
      ],
      "execution_count": 3,
      "outputs": [
        {
          "output_type": "execute_result",
          "data": {
            "text/plain": [
              "39.0"
            ]
          },
          "metadata": {},
          "execution_count": 3
        }
      ]
    },
    {
      "cell_type": "markdown",
      "metadata": {
        "id": "83YOb9xlIooJ"
      },
      "source": [
        "#### Mode"
      ]
    },
    {
      "cell_type": "code",
      "metadata": {
        "colab": {
          "base_uri": "https://localhost:8080/"
        },
        "id": "3ylAS7S_Ivkb",
        "outputId": "9c05ea7d-2dfa-4dff-a5d2-674be1c011c3"
      },
      "source": [
        "# find mode of communication_skill_score column\n",
        "data['communication_skill_score'].mode()"
      ],
      "execution_count": 4,
      "outputs": [
        {
          "output_type": "execute_result",
          "data": {
            "text/plain": [
              "0    39\n",
              "dtype: int64"
            ]
          },
          "metadata": {},
          "execution_count": 4
        }
      ]
    },
    {
      "cell_type": "markdown",
      "metadata": {
        "id": "HwWmIknYI1uL"
      },
      "source": [
        "### 2.2. Dispersion "
      ]
    },
    {
      "cell_type": "markdown",
      "metadata": {
        "id": "-MTYU_H9hLV6"
      },
      "source": [
        "#### Range"
      ]
    },
    {
      "cell_type": "code",
      "metadata": {
        "colab": {
          "base_uri": "https://localhost:8080/"
        },
        "id": "3JMO8B2DhQK1",
        "outputId": "508b9cef-602c-43e0-b403-03fe199453a7"
      },
      "source": [
        "max = data['communication_skill_score'].max()\n",
        "min = data['communication_skill_score'].min()\n",
        "column_range = max - min\n",
        "print(column_range)"
      ],
      "execution_count": 5,
      "outputs": [
        {
          "output_type": "stream",
          "name": "stdout",
          "text": [
            "22\n"
          ]
        }
      ]
    },
    {
      "cell_type": "markdown",
      "metadata": {
        "id": "pbEcpSZBhkL8"
      },
      "source": [
        "#### Interquartile Range(IQR)"
      ]
    },
    {
      "cell_type": "code",
      "metadata": {
        "colab": {
          "base_uri": "https://localhost:8080/"
        },
        "id": "qsUEieBVh212",
        "outputId": "97979a00-3c39-46bb-ee84-45878e1fbc56"
      },
      "source": [
        "# First Quartile\n",
        "q1 = data['communication_skill_score'].quantile(.25)\n",
        "\n",
        "# Third Quartile\n",
        "q3 = data['communication_skill_score'].quantile(.75)\n",
        "\n",
        "# Inter Quartile Ratio\n",
        "iqr = q3 - q1\n",
        "print(iqr)"
      ],
      "execution_count": 6,
      "outputs": [
        {
          "output_type": "stream",
          "name": "stdout",
          "text": [
            "1.0\n"
          ]
        }
      ]
    },
    {
      "cell_type": "markdown",
      "metadata": {
        "id": "VY2FtgBSiauR"
      },
      "source": [
        "#### Variance"
      ]
    },
    {
      "cell_type": "code",
      "metadata": {
        "colab": {
          "base_uri": "https://localhost:8080/"
        },
        "id": "b7fZAFKZjstr",
        "outputId": "4ff04855-71fa-4e5b-8345-6c781aca9367"
      },
      "source": [
        "# Variance of communication_skill_score\n",
        "data['communication_skill_score'].var()"
      ],
      "execution_count": 7,
      "outputs": [
        {
          "output_type": "execute_result",
          "data": {
            "text/plain": [
              "69.2"
            ]
          },
          "metadata": {},
          "execution_count": 7
        }
      ]
    },
    {
      "cell_type": "markdown",
      "metadata": {
        "id": "m9UCA4KAj0sI"
      },
      "source": [
        "#### Standard Deviation"
      ]
    },
    {
      "cell_type": "code",
      "metadata": {
        "colab": {
          "base_uri": "https://localhost:8080/"
        },
        "id": "j3gpm25XkGdx",
        "outputId": "049bd4fa-332f-4379-a83d-63690240c114"
      },
      "source": [
        "# Standard deviation of communication_skill_score\n",
        "data['communication_skill_score'].std()"
      ],
      "execution_count": 8,
      "outputs": [
        {
          "output_type": "execute_result",
          "data": {
            "text/plain": [
              "8.318653737234168"
            ]
          },
          "metadata": {},
          "execution_count": 8
        }
      ]
    },
    {
      "cell_type": "markdown",
      "metadata": {
        "id": "DO5v7sjZkMRA"
      },
      "source": [
        "#### Skewness"
      ]
    },
    {
      "cell_type": "code",
      "metadata": {
        "colab": {
          "base_uri": "https://localhost:8080/"
        },
        "id": "5W77mr_Pkpiz",
        "outputId": "ca7597a8-33bb-4678-ef20-6f317032bfd6"
      },
      "source": [
        "# skewness of communication_skill_score column\n",
        "data['communication_skill_score'].skew()"
      ],
      "execution_count": 9,
      "outputs": [
        {
          "output_type": "execute_result",
          "data": {
            "text/plain": [
              "-1.704679180800373"
            ]
          },
          "metadata": {},
          "execution_count": 9
        }
      ]
    },
    {
      "cell_type": "markdown",
      "metadata": {
        "id": "xDPF5bM6kvxH"
      },
      "source": [
        "#### Kurtosis"
      ]
    },
    {
      "cell_type": "code",
      "metadata": {
        "colab": {
          "base_uri": "https://localhost:8080/"
        },
        "id": "X3ra8x2BliDo",
        "outputId": "6ff08ca2-bd95-4f1d-ac70-e06f36fe4684"
      },
      "source": [
        "# kurtosis of communication_skill_score column\n",
        "data['communication_skill_score'].kurtosis()"
      ],
      "execution_count": 10,
      "outputs": [
        {
          "output_type": "execute_result",
          "data": {
            "text/plain": [
              "3.6010641852384015"
            ]
          },
          "metadata": {},
          "execution_count": 10
        }
      ]
    },
    {
      "cell_type": "markdown",
      "metadata": {
        "id": "xyJstAE3ln4S"
      },
      "source": [
        "### 2.3. Relationships between Attributes"
      ]
    },
    {
      "cell_type": "markdown",
      "metadata": {
        "id": "cFJUNIyrlvqz"
      },
      "source": [
        "#### Covariance"
      ]
    },
    {
      "cell_type": "code",
      "metadata": {
        "colab": {
          "base_uri": "https://localhost:8080/",
          "height": 112
        },
        "id": "Z-8Zc3oTmfaL",
        "outputId": "11962eca-2ff3-4986-8ca4-00cfd69cc22f"
      },
      "source": [
        "# Covariance between columns of dataframe\n",
        "data.cov()"
      ],
      "execution_count": 11,
      "outputs": [
        {
          "output_type": "execute_result",
          "data": {
            "text/html": [
              "<div>\n",
              "<style scoped>\n",
              "    .dataframe tbody tr th:only-of-type {\n",
              "        vertical-align: middle;\n",
              "    }\n",
              "\n",
              "    .dataframe tbody tr th {\n",
              "        vertical-align: top;\n",
              "    }\n",
              "\n",
              "    .dataframe thead th {\n",
              "        text-align: right;\n",
              "    }\n",
              "</style>\n",
              "<table border=\"1\" class=\"dataframe\">\n",
              "  <thead>\n",
              "    <tr style=\"text-align: right;\">\n",
              "      <th></th>\n",
              "      <th>communication_skill_score</th>\n",
              "      <th>quantitative_skill_score</th>\n",
              "    </tr>\n",
              "  </thead>\n",
              "  <tbody>\n",
              "    <tr>\n",
              "      <th>communication_skill_score</th>\n",
              "      <td>69.20</td>\n",
              "      <td>-6.55</td>\n",
              "    </tr>\n",
              "    <tr>\n",
              "      <th>quantitative_skill_score</th>\n",
              "      <td>-6.55</td>\n",
              "      <td>34.20</td>\n",
              "    </tr>\n",
              "  </tbody>\n",
              "</table>\n",
              "</div>"
            ],
            "text/plain": [
              "                           communication_skill_score  quantitative_skill_score\n",
              "communication_skill_score                      69.20                     -6.55\n",
              "quantitative_skill_score                       -6.55                     34.20"
            ]
          },
          "metadata": {},
          "execution_count": 11
        }
      ]
    },
    {
      "cell_type": "markdown",
      "metadata": {
        "id": "pEJF_1SWmlRT"
      },
      "source": [
        "#### Correlation - Pearson"
      ]
    },
    {
      "cell_type": "code",
      "metadata": {
        "colab": {
          "base_uri": "https://localhost:8080/",
          "height": 112
        },
        "id": "CbnGIdu0m3A1",
        "outputId": "c38cf58b-f28a-4e10-e720-c437e8802e10"
      },
      "source": [
        "# Correlation between columns of dataframe\n",
        "data.corr(method='pearson')"
      ],
      "execution_count": 12,
      "outputs": [
        {
          "output_type": "execute_result",
          "data": {
            "text/html": [
              "<div>\n",
              "<style scoped>\n",
              "    .dataframe tbody tr th:only-of-type {\n",
              "        vertical-align: middle;\n",
              "    }\n",
              "\n",
              "    .dataframe tbody tr th {\n",
              "        vertical-align: top;\n",
              "    }\n",
              "\n",
              "    .dataframe thead th {\n",
              "        text-align: right;\n",
              "    }\n",
              "</style>\n",
              "<table border=\"1\" class=\"dataframe\">\n",
              "  <thead>\n",
              "    <tr style=\"text-align: right;\">\n",
              "      <th></th>\n",
              "      <th>communication_skill_score</th>\n",
              "      <th>quantitative_skill_score</th>\n",
              "    </tr>\n",
              "  </thead>\n",
              "  <tbody>\n",
              "    <tr>\n",
              "      <th>communication_skill_score</th>\n",
              "      <td>1.00000</td>\n",
              "      <td>-0.13464</td>\n",
              "    </tr>\n",
              "    <tr>\n",
              "      <th>quantitative_skill_score</th>\n",
              "      <td>-0.13464</td>\n",
              "      <td>1.00000</td>\n",
              "    </tr>\n",
              "  </tbody>\n",
              "</table>\n",
              "</div>"
            ],
            "text/plain": [
              "                           communication_skill_score  quantitative_skill_score\n",
              "communication_skill_score                    1.00000                  -0.13464\n",
              "quantitative_skill_score                    -0.13464                   1.00000"
            ]
          },
          "metadata": {},
          "execution_count": 12
        }
      ]
    },
    {
      "cell_type": "markdown",
      "metadata": {
        "id": "iduIOu8WnHnl"
      },
      "source": [
        "### 2.4. Statistical Hypothesis Test"
      ]
    },
    {
      "cell_type": "markdown",
      "metadata": {
        "id": "ax_q1498EGIc"
      },
      "source": [
        "#### One-sample t-test\n",
        "\n",
        "* Null Hypothesis(귀무가설): Average score is 68\n",
        "(is not significantly different with)\n",
        "* Alternative Hypothesis(대조가설): Average score is not 68\n",
        "(is significantly different with)"
      ]
    },
    {
      "cell_type": "code",
      "metadata": {
        "colab": {
          "base_uri": "https://localhost:8080/"
        },
        "id": "1nAmDpStEZfS",
        "outputId": "bcabf2ba-f135-46e3-d53c-69d90ac8787c"
      },
      "source": [
        "import numpy as np\n",
        "\n",
        "score = np.array([63, 75, 84, 58, 52, 96, 63, 55, 76, 83])\n",
        "score = np.append(score, score+.1)\n",
        "score = np.append(score, score-.1)\n",
        "score = np.append(score, score+.2)\n",
        "score = np.append(score, score-.2)\n",
        "\n",
        "mean_value = np.mean(score)\n",
        "\n",
        "print(\"Mean:\",mean_value)"
      ],
      "execution_count": 16,
      "outputs": [
        {
          "output_type": "stream",
          "name": "stdout",
          "text": [
            "Mean: 70.5\n"
          ]
        }
      ]
    },
    {
      "cell_type": "code",
      "metadata": {
        "colab": {
          "base_uri": "https://localhost:8080/"
        },
        "id": "JEybSgb8E5G3",
        "outputId": "9b36c6ba-e337-4739-c042-19e84f35fc37"
      },
      "source": [
        "from scipy.stats import ttest_1samp\n",
        "\n",
        "# 언더스코어는 값을 무시하기 위해 넣은 것이다.\n",
        "# ttest_1samp의 return 값 중 statistic 값을 무시한다.\n",
        "_, p_value = ttest_1samp(score, 68)\n",
        "print(\"P Value:\", p_value)\n",
        "\n",
        "# 0.05 or 5% is significance level or alpha.\n",
        "if p_value < 0.05:\n",
        "  print(\"Hypothesis Rejected\")\n",
        "else:\n",
        "  print(\"Hypothesis Accepted\")"
      ],
      "execution_count": 22,
      "outputs": [
        {
          "output_type": "stream",
          "name": "stdout",
          "text": [
            "P Value: 0.02318407047763818\n",
            "Hypothesis Rejected\n"
          ]
        }
      ]
    },
    {
      "cell_type": "markdown",
      "metadata": {
        "id": "lulMNIjjF181"
      },
      "source": [
        "#### Two-sample t-test\n",
        "\n",
        "* Null Hypothesis(귀무가설): Two group means are equal\n",
        "* Alternative Hypothesis(대조가설): Two group means are not equal"
      ]
    },
    {
      "cell_type": "code",
      "metadata": {
        "colab": {
          "base_uri": "https://localhost:8080/"
        },
        "id": "3vq_pgHVLNtb",
        "outputId": "f889d348-9708-4fe8-eb95-900ec09f135d"
      },
      "source": [
        "from scipy.stats import ttest_ind\n",
        "\n",
        "class1_score = np.array([63, 75, 84, 58, 52, 96, 63, 55, 76, 83])\n",
        "class2_score = np.array([53, 43, 31, 113, 33, 57, 27, 23, 24, 43])\n",
        "\n",
        "# Compare samples\n",
        "_, p = ttest_ind(class1_score, class2_score)\n",
        "\n",
        "print(\"P Value:\", p)\n",
        "\n",
        "# 0.05 or 5% is significance level or alpha.\n",
        "if p < 0.05:\n",
        "  print(\"Hypothesis Rejected\")\n",
        "else:\n",
        "  print(\"Hypothesis Accepted\")"
      ],
      "execution_count": 23,
      "outputs": [
        {
          "output_type": "stream",
          "name": "stdout",
          "text": [
            "P Value: 0.015170931362451255\n",
            "Hypothesis Rejected\n"
          ]
        }
      ]
    },
    {
      "cell_type": "markdown",
      "metadata": {
        "id": "34ChE9_0MBDJ"
      },
      "source": [
        "#### Paired (related) sample t-test\n",
        "\n",
        "* Null Hypothesis(귀무가설): Mean difference is 0.\n",
        "* Alternative Hypothesis(대조가설): Mean difference is not 0."
      ]
    },
    {
      "cell_type": "code",
      "metadata": {
        "colab": {
          "base_uri": "https://localhost:8080/"
        },
        "id": "zFuhBjbXMkck",
        "outputId": "cad30c6e-98c5-4778-c63c-d99342a96f13"
      },
      "source": [
        "# paired test\n",
        "from scipy.stats import ttest_rel\n",
        "\n",
        "# Weights before treatment\n",
        "weightBefore = np.array([63, 75, 84, 58, 52, 96, 63, 65, 76, 83])\n",
        "\n",
        "# Weights after treatment\n",
        "weightAfter = np.array([53, 43, 67, 59, 48, 57, 65, 58, 64, 72])\n",
        "\n",
        "# Compare weights\n",
        "_, p = ttest_rel(weightBefore, weightAfter)\n",
        "\n",
        "print(\"P Value:\", p)\n",
        "\n",
        "# 0.05 or 5% is significance level or alpha.\n",
        "if p < 0.05:\n",
        "  print(\"Hypothesis Rejected\")\n",
        "else:\n",
        "  print(\"Hypothesis Accepted\")"
      ],
      "execution_count": 24,
      "outputs": [
        {
          "output_type": "stream",
          "name": "stdout",
          "text": [
            "P Value: 0.013685575312467715\n",
            "Hypothesis Rejected\n"
          ]
        }
      ]
    },
    {
      "cell_type": "markdown",
      "metadata": {
        "id": "qIm7PTyDNgFK"
      },
      "source": [
        "#### Mann-Whitney U test\n",
        "\n",
        "* Null Hypothesis(귀무가설): There is no difference between ranking of each group members.\n",
        "* Alternative Hypothesis(대조가설): There is a difference between ranking of each group members."
      ]
    },
    {
      "cell_type": "code",
      "metadata": {
        "colab": {
          "base_uri": "https://localhost:8080/"
        },
        "id": "0IJrX_N4PfQt",
        "outputId": "f1aab149-b5ad-4da3-dd70-9366fe3712ad"
      },
      "source": [
        "from scipy.stats import mannwhitneyu\n",
        "\n",
        "# Sample1\n",
        "rate1 = [7, 8, 4, 9, 8]\n",
        "\n",
        "# Sample2\n",
        "rate2 = [3, 4, 2, 2, 1]\n",
        "\n",
        "# Apply Test\n",
        "stat, p = mannwhitneyu(rate1, rate2)\n",
        "print(\"p-value:\", p)\n",
        "\n",
        "# 0.01 or 1% is significance level or alpha.\n",
        "if p < 0.01:\n",
        "  print(\"Hypothesis Rejected\")\n",
        "else:\n",
        "  print(\"Hypothesis Accepted\")"
      ],
      "execution_count": 26,
      "outputs": [
        {
          "output_type": "stream",
          "name": "stdout",
          "text": [
            "p-value: 0.007666581056801412\n",
            "Hypothesis Rejected\n"
          ]
        }
      ]
    },
    {
      "cell_type": "code",
      "metadata": {
        "id": "p89o7TuAQHgr"
      },
      "source": [
        ""
      ],
      "execution_count": null,
      "outputs": []
    }
  ]
}