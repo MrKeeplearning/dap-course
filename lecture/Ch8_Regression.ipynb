{
  "nbformat": 4,
  "nbformat_minor": 0,
  "metadata": {
    "colab": {
      "name": "Ch8_Regression.ipynb",
      "provenance": [],
      "collapsed_sections": [],
      "authorship_tag": "ABX9TyMEwPSloQq/z3Si34ndAxQo",
      "include_colab_link": true
    },
    "kernelspec": {
      "name": "python3",
      "display_name": "Python 3"
    },
    "language_info": {
      "name": "python"
    }
  },
  "cells": [
    {
      "cell_type": "markdown",
      "metadata": {
        "id": "view-in-github",
        "colab_type": "text"
      },
      "source": [
        "<a href=\"https://colab.research.google.com/github/MrKeeplearning/dap-course/blob/main/lecture/Ch8_Regression.ipynb\" target=\"_parent\"><img src=\"https://colab.research.google.com/assets/colab-badge.svg\" alt=\"Open In Colab\"/></a>"
      ]
    },
    {
      "cell_type": "code",
      "metadata": {
        "id": "ckmYbVIDm4-n"
      },
      "source": [
        "dirPath = \"https://raw.githubusercontent.com/PacktPublishing/Python-Data-Analysis-Third-Edition/master/Chapter09/\""
      ],
      "execution_count": 1,
      "outputs": []
    },
    {
      "cell_type": "code",
      "metadata": {
        "colab": {
          "base_uri": "https://localhost:8080/",
          "height": 204
        },
        "id": "Nwsc-zMhnSA8",
        "outputId": "a49691c6-57f7-4766-96e5-9736178de66d"
      },
      "source": [
        "# Import pandas\n",
        "import pandas as pd\n",
        "\n",
        "# Read the dataset using read_csv method\n",
        "df = pd.read_csv(dirPath + \"Advertising.csv\")\n",
        "\n",
        "# See the top-5 records in the data\n",
        "df.head()"
      ],
      "execution_count": 2,
      "outputs": [
        {
          "output_type": "execute_result",
          "data": {
            "text/html": [
              "<div>\n",
              "<style scoped>\n",
              "    .dataframe tbody tr th:only-of-type {\n",
              "        vertical-align: middle;\n",
              "    }\n",
              "\n",
              "    .dataframe tbody tr th {\n",
              "        vertical-align: top;\n",
              "    }\n",
              "\n",
              "    .dataframe thead th {\n",
              "        text-align: right;\n",
              "    }\n",
              "</style>\n",
              "<table border=\"1\" class=\"dataframe\">\n",
              "  <thead>\n",
              "    <tr style=\"text-align: right;\">\n",
              "      <th></th>\n",
              "      <th>TV</th>\n",
              "      <th>Radio</th>\n",
              "      <th>Newspaper</th>\n",
              "      <th>Sales</th>\n",
              "    </tr>\n",
              "  </thead>\n",
              "  <tbody>\n",
              "    <tr>\n",
              "      <th>0</th>\n",
              "      <td>230.1</td>\n",
              "      <td>37.8</td>\n",
              "      <td>69.2</td>\n",
              "      <td>22.1</td>\n",
              "    </tr>\n",
              "    <tr>\n",
              "      <th>1</th>\n",
              "      <td>44.5</td>\n",
              "      <td>39.3</td>\n",
              "      <td>45.1</td>\n",
              "      <td>10.4</td>\n",
              "    </tr>\n",
              "    <tr>\n",
              "      <th>2</th>\n",
              "      <td>17.2</td>\n",
              "      <td>45.9</td>\n",
              "      <td>69.3</td>\n",
              "      <td>9.3</td>\n",
              "    </tr>\n",
              "    <tr>\n",
              "      <th>3</th>\n",
              "      <td>151.5</td>\n",
              "      <td>41.3</td>\n",
              "      <td>58.5</td>\n",
              "      <td>18.5</td>\n",
              "    </tr>\n",
              "    <tr>\n",
              "      <th>4</th>\n",
              "      <td>180.8</td>\n",
              "      <td>10.8</td>\n",
              "      <td>58.4</td>\n",
              "      <td>12.9</td>\n",
              "    </tr>\n",
              "  </tbody>\n",
              "</table>\n",
              "</div>"
            ],
            "text/plain": [
              "      TV  Radio  Newspaper  Sales\n",
              "0  230.1   37.8       69.2   22.1\n",
              "1   44.5   39.3       45.1   10.4\n",
              "2   17.2   45.9       69.3    9.3\n",
              "3  151.5   41.3       58.5   18.5\n",
              "4  180.8   10.8       58.4   12.9"
            ]
          },
          "metadata": {},
          "execution_count": 2
        }
      ]
    },
    {
      "cell_type": "code",
      "metadata": {
        "id": "Pg2vXUa4niOl"
      },
      "source": [
        "# Independent variables or Features\n",
        "X = df[['TV', 'Radio', 'Newspaper']]\n",
        "\n",
        "# Dependent or Target variable\n",
        "y = df.Sales"
      ],
      "execution_count": 3,
      "outputs": []
    },
    {
      "cell_type": "code",
      "metadata": {
        "id": "FP4kjLf5nzoz"
      },
      "source": [
        "# Import train_test_split function from\n",
        "from sklearn.model_selection import train_test_split\n",
        "\n",
        "# Split X and y into training and testing sets\n",
        "X_train, X_test, y_train, y_test = train_test_split(\n",
        "    X, y, test_size=0.25, random_state=0\n",
        ")"
      ],
      "execution_count": 4,
      "outputs": []
    },
    {
      "cell_type": "code",
      "metadata": {
        "colab": {
          "base_uri": "https://localhost:8080/"
        },
        "id": "nWKSc7sHoycW",
        "outputId": "dfd362b0-196b-4476-c012-35878887f932"
      },
      "source": [
        "# Import linear regresssion model\n",
        "from sklearn.linear_model import LinearRegression\n",
        "\n",
        "# Create linear regression model\n",
        "lin_reg = LinearRegression()\n",
        "\n",
        "# Fit the linear regression model\n",
        "lin_reg.fit(X_train, y_train)\n",
        "\n",
        "# Predict the values given test set\n",
        "predictions = lin_reg.predict(X_test)\n",
        "\n",
        "# Print the intercept and coefficients\n",
        "print(lin_reg.intercept_)\n",
        "print(lin_reg.coef_)"
      ],
      "execution_count": 5,
      "outputs": [
        {
          "output_type": "stream",
          "name": "stdout",
          "text": [
            "2.8925700511511483\n",
            "[0.04416235 0.19900368 0.00116268]\n"
          ]
        }
      ]
    },
    {
      "cell_type": "code",
      "metadata": {
        "colab": {
          "base_uri": "https://localhost:8080/",
          "height": 204
        },
        "id": "g2ZgdTpDpD-h",
        "outputId": "9340b945-1967-4a19-cd48-f5127a6b7353"
      },
      "source": [
        "X_test.head()"
      ],
      "execution_count": 6,
      "outputs": [
        {
          "output_type": "execute_result",
          "data": {
            "text/html": [
              "<div>\n",
              "<style scoped>\n",
              "    .dataframe tbody tr th:only-of-type {\n",
              "        vertical-align: middle;\n",
              "    }\n",
              "\n",
              "    .dataframe tbody tr th {\n",
              "        vertical-align: top;\n",
              "    }\n",
              "\n",
              "    .dataframe thead th {\n",
              "        text-align: right;\n",
              "    }\n",
              "</style>\n",
              "<table border=\"1\" class=\"dataframe\">\n",
              "  <thead>\n",
              "    <tr style=\"text-align: right;\">\n",
              "      <th></th>\n",
              "      <th>TV</th>\n",
              "      <th>Radio</th>\n",
              "      <th>Newspaper</th>\n",
              "    </tr>\n",
              "  </thead>\n",
              "  <tbody>\n",
              "    <tr>\n",
              "      <th>18</th>\n",
              "      <td>69.2</td>\n",
              "      <td>20.5</td>\n",
              "      <td>18.3</td>\n",
              "    </tr>\n",
              "    <tr>\n",
              "      <th>170</th>\n",
              "      <td>50.0</td>\n",
              "      <td>11.6</td>\n",
              "      <td>18.4</td>\n",
              "    </tr>\n",
              "    <tr>\n",
              "      <th>107</th>\n",
              "      <td>90.4</td>\n",
              "      <td>0.3</td>\n",
              "      <td>23.2</td>\n",
              "    </tr>\n",
              "    <tr>\n",
              "      <th>98</th>\n",
              "      <td>289.7</td>\n",
              "      <td>42.3</td>\n",
              "      <td>51.2</td>\n",
              "    </tr>\n",
              "    <tr>\n",
              "      <th>177</th>\n",
              "      <td>170.2</td>\n",
              "      <td>7.8</td>\n",
              "      <td>35.2</td>\n",
              "    </tr>\n",
              "  </tbody>\n",
              "</table>\n",
              "</div>"
            ],
            "text/plain": [
              "        TV  Radio  Newspaper\n",
              "18    69.2   20.5       18.3\n",
              "170   50.0   11.6       18.4\n",
              "107   90.4    0.3       23.2\n",
              "98   289.7   42.3       51.2\n",
              "177  170.2    7.8       35.2"
            ]
          },
          "metadata": {},
          "execution_count": 6
        }
      ]
    },
    {
      "cell_type": "code",
      "metadata": {
        "colab": {
          "base_uri": "https://localhost:8080/"
        },
        "id": "ds0fYrveqGJ6",
        "outputId": "9548e954-30fc-45c3-e53a-0c8b45b8d15b"
      },
      "source": [
        "y_test.head()"
      ],
      "execution_count": 7,
      "outputs": [
        {
          "output_type": "execute_result",
          "data": {
            "text/plain": [
              "18     11.3\n",
              "170     8.4\n",
              "107     8.7\n",
              "98     25.4\n",
              "177    11.7\n",
              "Name: Sales, dtype: float64"
            ]
          },
          "metadata": {},
          "execution_count": 7
        }
      ]
    },
    {
      "cell_type": "code",
      "metadata": {
        "colab": {
          "base_uri": "https://localhost:8080/"
        },
        "id": "e2_FVUTMqOf8",
        "outputId": "85ef3a67-d371-469b-8fe8-6b7088db9877"
      },
      "source": [
        "# Import the required libraries\n",
        "import numpy as np\n",
        "from sklearn.metrics import mean_absolute_error\n",
        "from sklearn.metrics import mean_squared_error\n",
        "from sklearn.metrics import r2_score\n",
        "\n",
        "# Evaluate mean absolute error\n",
        "print('Mean Absolute Error(MAE):', mean_absolute_error(y_test, predictions))\n",
        "\n",
        "# Evaluate mean squared error\n",
        "print('Mean Squared Error(MSE):', mean_squared_error(y_test, predictions))\n",
        "\n",
        "# Evaluate root mean absolute error\n",
        "print('Root Mean Squared Error(RMSE):', np.sqrt(mean_squared_error(y_test, predictions)))\n",
        "\n",
        "# Evaluate R2-square\n",
        "print('R2-Square:', r2_score(y_test, predictions))"
      ],
      "execution_count": 8,
      "outputs": [
        {
          "output_type": "stream",
          "name": "stdout",
          "text": [
            "Mean Absolute Error(MAE): 1.3000320919235455\n",
            "Mean Squared Error(MSE): 4.012497522917099\n",
            "Root Mean Squared Error(RMSE): 2.0031219440955406\n",
            "R2-Square: 0.8576396745320893\n"
          ]
        }
      ]
    },
    {
      "cell_type": "code",
      "metadata": {
        "colab": {
          "base_uri": "https://localhost:8080/",
          "height": 204
        },
        "id": "F7y-_I5xs9uX",
        "outputId": "52935adc-63d4-4ca7-f538-aa3e2b6ecb61"
      },
      "source": [
        "import pandas as pd\n",
        "\n",
        "# Read the blood pressure dataset\n",
        "data = pd.read_csv(dirPath + \"bloodpress.txt\", sep='\\t')\n",
        "\n",
        "# See the top records in the data\n",
        "data.head()"
      ],
      "execution_count": 9,
      "outputs": [
        {
          "output_type": "execute_result",
          "data": {
            "text/html": [
              "<div>\n",
              "<style scoped>\n",
              "    .dataframe tbody tr th:only-of-type {\n",
              "        vertical-align: middle;\n",
              "    }\n",
              "\n",
              "    .dataframe tbody tr th {\n",
              "        vertical-align: top;\n",
              "    }\n",
              "\n",
              "    .dataframe thead th {\n",
              "        text-align: right;\n",
              "    }\n",
              "</style>\n",
              "<table border=\"1\" class=\"dataframe\">\n",
              "  <thead>\n",
              "    <tr style=\"text-align: right;\">\n",
              "      <th></th>\n",
              "      <th>BP</th>\n",
              "      <th>Age</th>\n",
              "      <th>Weight</th>\n",
              "      <th>BSA</th>\n",
              "      <th>Dur</th>\n",
              "      <th>Pulse</th>\n",
              "      <th>Stress</th>\n",
              "    </tr>\n",
              "  </thead>\n",
              "  <tbody>\n",
              "    <tr>\n",
              "      <th>0</th>\n",
              "      <td>105</td>\n",
              "      <td>47</td>\n",
              "      <td>85.4</td>\n",
              "      <td>1.75</td>\n",
              "      <td>5.1</td>\n",
              "      <td>63</td>\n",
              "      <td>33</td>\n",
              "    </tr>\n",
              "    <tr>\n",
              "      <th>1</th>\n",
              "      <td>115</td>\n",
              "      <td>49</td>\n",
              "      <td>94.2</td>\n",
              "      <td>2.10</td>\n",
              "      <td>3.8</td>\n",
              "      <td>70</td>\n",
              "      <td>14</td>\n",
              "    </tr>\n",
              "    <tr>\n",
              "      <th>2</th>\n",
              "      <td>116</td>\n",
              "      <td>49</td>\n",
              "      <td>95.3</td>\n",
              "      <td>1.98</td>\n",
              "      <td>8.2</td>\n",
              "      <td>72</td>\n",
              "      <td>10</td>\n",
              "    </tr>\n",
              "    <tr>\n",
              "      <th>3</th>\n",
              "      <td>117</td>\n",
              "      <td>50</td>\n",
              "      <td>94.7</td>\n",
              "      <td>2.01</td>\n",
              "      <td>5.8</td>\n",
              "      <td>73</td>\n",
              "      <td>99</td>\n",
              "    </tr>\n",
              "    <tr>\n",
              "      <th>4</th>\n",
              "      <td>112</td>\n",
              "      <td>51</td>\n",
              "      <td>89.4</td>\n",
              "      <td>1.89</td>\n",
              "      <td>7.0</td>\n",
              "      <td>72</td>\n",
              "      <td>95</td>\n",
              "    </tr>\n",
              "  </tbody>\n",
              "</table>\n",
              "</div>"
            ],
            "text/plain": [
              "    BP  Age  Weight   BSA  Dur  Pulse  Stress\n",
              "0  105   47    85.4  1.75  5.1     63      33\n",
              "1  115   49    94.2  2.10  3.8     70      14\n",
              "2  116   49    95.3  1.98  8.2     72      10\n",
              "3  117   50    94.7  2.01  5.8     73      99\n",
              "4  112   51    89.4  1.89  7.0     72      95"
            ]
          },
          "metadata": {},
          "execution_count": 9
        }
      ]
    },
    {
      "cell_type": "code",
      "metadata": {
        "colab": {
          "base_uri": "https://localhost:8080/",
          "height": 269
        },
        "id": "KU7CmGycxE3K",
        "outputId": "b486dd8b-ad2c-4962-d4c9-5a6dce6ac50f"
      },
      "source": [
        "import seaborn as sns\n",
        "import matplotlib.pyplot as plt\n",
        "\n",
        "# Correlation matrix\n",
        "corr = data.corr()\n",
        "\n",
        "# Plot Heatmap on correlation matrix\n",
        "sns.heatmap(corr, annot=True, cmap='YlGnBu')\n",
        "\n",
        "# display the plot\n",
        "plt.show()"
      ],
      "execution_count": 10,
      "outputs": [
        {
          "output_type": "display_data",
          "data": {
            "image/png": "[encoded data removed]",
            "text/plain": [
              "<Figure size 432x288 with 2 Axes>"
            ]
          },
          "metadata": {
            "needs_background": "light"
          }
        }
      ]
    },
    {
      "cell_type": "code",
      "metadata": {
        "id": "eftZITHBxdnh"
      },
      "source": [
        ""
      ],
      "execution_count": 10,
      "outputs": []
    }
  ]
}