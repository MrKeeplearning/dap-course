{
  "nbformat": 4,
  "nbformat_minor": 0,
  "metadata": {
    "colab": {
      "name": "lecture2.ipynb",
      "provenance": [],
      "collapsed_sections": [],
      "authorship_tag": "ABX9TyMx/X6g+a1wY2sh0G1HFhfa",
      "include_colab_link": true
    },
    "kernelspec": {
      "name": "python3",
      "display_name": "Python 3"
    },
    "language_info": {
      "name": "python"
    }
  },
  "cells": [
    {
      "cell_type": "markdown",
      "metadata": {
        "id": "view-in-github",
        "colab_type": "text"
      },
      "source": [
        "<a href=\"https://colab.research.google.com/github/MrKeeplearning/dap-course/blob/main/lecture/lecture2.ipynb\" target=\"_parent\"><img src=\"https://colab.research.google.com/assets/colab-badge.svg\" alt=\"Open In Colab\"/></a>"
      ]
    },
    {
      "cell_type": "markdown",
      "metadata": {
        "id": "y_tSLQZvOejV"
      },
      "source": [
        "# 1. Understanding NumPy Array"
      ]
    },
    {
      "cell_type": "markdown",
      "metadata": {
        "id": "cqwLdgHFsKaq"
      },
      "source": [
        "## 1.1. Creating Numpy Array"
      ]
    },
    {
      "cell_type": "code",
      "metadata": {
        "id": "JG2Wvza0QCmh"
      },
      "source": [
        "import numpy as np"
      ],
      "execution_count": 1,
      "outputs": []
    },
    {
      "cell_type": "code",
      "metadata": {
        "colab": {
          "base_uri": "https://localhost:8080/"
        },
        "id": "hqoHBM6wOhBq",
        "outputId": "71728f19-cf73-4e89-e02e-3f4c21422a06"
      },
      "source": [
        "# Creating an array\n",
        "a = np.array([2, 4, 6, 8, 10])\n",
        "print(a)\n",
        "a"
      ],
      "execution_count": 2,
      "outputs": [
        {
          "output_type": "stream",
          "name": "stdout",
          "text": [
            "[ 2  4  6  8 10]\n"
          ]
        },
        {
          "output_type": "execute_result",
          "data": {
            "text/plain": [
              "array([ 2,  4,  6,  8, 10])"
            ]
          },
          "metadata": {},
          "execution_count": 2
        }
      ]
    },
    {
      "cell_type": "code",
      "metadata": {
        "colab": {
          "base_uri": "https://localhost:8080/"
        },
        "id": "uzOIBuHeOs3S",
        "outputId": "1ec130dd-5c52-4890-adb9-75d07d2f0318"
      },
      "source": [
        "# Creating an array using arange()\n",
        "a = np.arange(1, 20)\n",
        "# step을 사용해서 홀수만 출력할 수도 있다.\n",
        "b = np.arange(1, 20, 2)\n",
        "print(a)\n",
        "print(b)"
      ],
      "execution_count": 3,
      "outputs": [
        {
          "output_type": "stream",
          "name": "stdout",
          "text": [
            "[ 1  2  3  4  5  6  7  8  9 10 11 12 13 14 15 16 17 18 19]\n",
            "[ 1  3  5  7  9 11 13 15 17 19]\n"
          ]
        }
      ]
    },
    {
      "cell_type": "markdown",
      "metadata": {
        "id": "-VjhEzQLPigN"
      },
      "source": [
        "### 💡 Other functions"
      ]
    },
    {
      "cell_type": "code",
      "metadata": {
        "colab": {
          "base_uri": "https://localhost:8080/"
        },
        "id": "JaGaXsdqPmxx",
        "outputId": "a30c6c5a-64ad-40c8-fe83-259d24101f5e"
      },
      "source": [
        "# Create an array of all zeros\n",
        "p = np.zeros((3, 3))\n",
        "print(p)"
      ],
      "execution_count": 4,
      "outputs": [
        {
          "output_type": "stream",
          "name": "stdout",
          "text": [
            "[[0. 0. 0.]\n",
            " [0. 0. 0.]\n",
            " [0. 0. 0.]]\n"
          ]
        }
      ]
    },
    {
      "cell_type": "code",
      "metadata": {
        "colab": {
          "base_uri": "https://localhost:8080/"
        },
        "id": "iYvY_aGDP6nn",
        "outputId": "31ab2ecf-955e-4a31-d95c-8959a196cf6b"
      },
      "source": [
        "# Create an array of all ones\n",
        "q = np.ones((2, 2))\n",
        "print(q)"
      ],
      "execution_count": 5,
      "outputs": [
        {
          "output_type": "stream",
          "name": "stdout",
          "text": [
            "[[1. 1.]\n",
            " [1. 1.]]\n"
          ]
        }
      ]
    },
    {
      "cell_type": "code",
      "metadata": {
        "colab": {
          "base_uri": "https://localhost:8080/"
        },
        "id": "g2CRAchvQVjV",
        "outputId": "07eea394-e851-4a8d-bec1-fb522608ca87"
      },
      "source": [
        "# Create a constant array\n",
        "r = np.full((2,2), 4)\n",
        "print(r)"
      ],
      "execution_count": 6,
      "outputs": [
        {
          "output_type": "stream",
          "name": "stdout",
          "text": [
            "[[4 4]\n",
            " [4 4]]\n"
          ]
        }
      ]
    },
    {
      "cell_type": "code",
      "metadata": {
        "colab": {
          "base_uri": "https://localhost:8080/"
        },
        "id": "9WZJTgB8RAb_",
        "outputId": "7c801293-4f1c-49f0-877d-dfc31cae2d23"
      },
      "source": [
        "# Create a 2x2 identity matrix\n",
        "s = np.eye(4)\n",
        "print(s)"
      ],
      "execution_count": 7,
      "outputs": [
        {
          "output_type": "stream",
          "name": "stdout",
          "text": [
            "[[1. 0. 0. 0.]\n",
            " [0. 1. 0. 0.]\n",
            " [0. 0. 1. 0.]\n",
            " [0. 0. 0. 1.]]\n"
          ]
        }
      ]
    },
    {
      "cell_type": "code",
      "metadata": {
        "colab": {
          "base_uri": "https://localhost:8080/"
        },
        "id": "Q8R86gr_RI5D",
        "outputId": "8c43e953-84b9-4c3e-a209-123a6627f827"
      },
      "source": [
        "# Create an array filled with random values\n",
        "t = np.random.random((3,3))\n",
        "print(t)"
      ],
      "execution_count": 8,
      "outputs": [
        {
          "output_type": "stream",
          "name": "stdout",
          "text": [
            "[[0.02670362 0.51875655 0.15292107]\n",
            " [0.70272072 0.70912676 0.67033655]\n",
            " [0.83575364 0.77696292 0.23643352]]\n"
          ]
        }
      ]
    },
    {
      "cell_type": "markdown",
      "metadata": {
        "id": "VptDEln9nbzD"
      },
      "source": [
        "### 💡 linspace\n",
        "linspace 함수는 다음과 같은 형식을 가지고 있다.\n",
        "```\n",
        "numpy.linspace(start, stop, num=50, endpoint=True, retstep=False, dtype=None, axis=0)\n",
        "```\n",
        "start는 배열의 시작값, stop은 배열의 끝값이고, num은 start와 stop 사이를 몇 개의 일정한 간격으로 요소를 만들 것인지 나타내는 것이다. 만약 num을 생략하게 되면 default로 지정된 50개로 나누어 1차원 배열을 생성한다.\n",
        "\n",
        "좀 더 자세한 내용은 [공식문서](https://numpy.org/doc/stable/reference/generated/numpy.linspace.html#)를 확인하자.\n"
      ]
    },
    {
      "cell_type": "code",
      "metadata": {
        "id": "95eJBqpNp3vd",
        "colab": {
          "base_uri": "https://localhost:8080/"
        },
        "outputId": "ad9ea81e-a547-48e3-bc6e-2d13cd06529a"
      },
      "source": [
        "t = np.linspace(1, 20)\n",
        "print(t)"
      ],
      "execution_count": 9,
      "outputs": [
        {
          "output_type": "stream",
          "name": "stdout",
          "text": [
            "[ 1.          1.3877551   1.7755102   2.16326531  2.55102041  2.93877551\n",
            "  3.32653061  3.71428571  4.10204082  4.48979592  4.87755102  5.26530612\n",
            "  5.65306122  6.04081633  6.42857143  6.81632653  7.20408163  7.59183673\n",
            "  7.97959184  8.36734694  8.75510204  9.14285714  9.53061224  9.91836735\n",
            " 10.30612245 10.69387755 11.08163265 11.46938776 11.85714286 12.24489796\n",
            " 12.63265306 13.02040816 13.40816327 13.79591837 14.18367347 14.57142857\n",
            " 14.95918367 15.34693878 15.73469388 16.12244898 16.51020408 16.89795918\n",
            " 17.28571429 17.67346939 18.06122449 18.44897959 18.83673469 19.2244898\n",
            " 19.6122449  20.        ]\n"
          ]
        }
      ]
    },
    {
      "cell_type": "markdown",
      "metadata": {
        "id": "nWdg5IOcqSjA"
      },
      "source": [
        "arange 함수가 정수들만 다루었다면, linspace 같은 경우에는 특정 시작 포인트부터 end point까지 소수점으로 균일하게 나누어서 만들어 보여준다는 차이점이 있다."
      ]
    },
    {
      "cell_type": "markdown",
      "metadata": {
        "id": "tN7XnHnkr5bX"
      },
      "source": [
        "## 1.2. Array Features\n",
        "\n",
        "기본적으로 NumPy array는 한 가지 데이터 타입으로 이루어져 있다. 따라서, 한 칸 한 칸이 int64로 되어 있고, 아래의 예시의 경우 int64의 10개에 해당하는 값으로 storage size가 정해져 있다."
      ]
    },
    {
      "cell_type": "code",
      "metadata": {
        "colab": {
          "base_uri": "https://localhost:8080/"
        },
        "id": "mWqo6zlUtZMk",
        "outputId": "fdf540e4-8d47-4183-f80d-a02ced18b114"
      },
      "source": [
        "# Creating an array using arange()\n",
        "a = np.arange(1, 11)\n",
        "print(type(a))\n",
        "print(a.dtype)"
      ],
      "execution_count": 10,
      "outputs": [
        {
          "output_type": "stream",
          "name": "stdout",
          "text": [
            "<class 'numpy.ndarray'>\n",
            "int64\n"
          ]
        }
      ]
    },
    {
      "cell_type": "markdown",
      "metadata": {
        "id": "rnQCAoumzYUd"
      },
      "source": [
        "일반적인 파이썬의 리스트를 사용해서 사이즈가 같은 두 리스트의 값을 합하려면 생각보다 복잡하다. 단순히 두 개의 리스트를 더하면 생각했던 것과 다른 결과가 출력된다."
      ]
    },
    {
      "cell_type": "code",
      "metadata": {
        "colab": {
          "base_uri": "https://localhost:8080/"
        },
        "id": "trI3PtmJtnEj",
        "outputId": "45bef2a0-155a-4579-f548-a4b2fffe8777"
      },
      "source": [
        "lst1 = [1, 2, 3, 4, 5, 6, 7, 8, 9, 10]\n",
        "lst2 = [11, 12, 13, 14, 15, 16, 17, 18, 19, 20]\n",
        "lst3 = lst1 + lst2\n",
        "print(lst3)"
      ],
      "execution_count": 11,
      "outputs": [
        {
          "output_type": "stream",
          "name": "stdout",
          "text": [
            "[1, 2, 3, 4, 5, 6, 7, 8, 9, 10, 11, 12, 13, 14, 15, 16, 17, 18, 19, 20]\n"
          ]
        }
      ]
    },
    {
      "cell_type": "markdown",
      "metadata": {
        "id": "k6MQpkY4zTln"
      },
      "source": [
        "만약 사이즈가 동일한 두 개의 리스트에서 동일한 위치에 있는 값들끼리 더한 결과를 원한다면 아래와 같이 코드를 작성해야 한다."
      ]
    },
    {
      "cell_type": "code",
      "metadata": {
        "colab": {
          "base_uri": "https://localhost:8080/"
        },
        "id": "9G4u12Iezq_9",
        "outputId": "9385c78c-217c-43c0-bc2b-e9e69f0f9288"
      },
      "source": [
        "lst3 = []\n",
        "for a, b in zip(lst1, lst2):\n",
        "  lst3.append(a + b)\n",
        "print(lst3)"
      ],
      "execution_count": 12,
      "outputs": [
        {
          "output_type": "stream",
          "name": "stdout",
          "text": [
            "[12, 14, 16, 18, 20, 22, 24, 26, 28, 30]\n"
          ]
        }
      ]
    },
    {
      "cell_type": "markdown",
      "metadata": {
        "id": "j813aDY3z4vP"
      },
      "source": [
        "하지만, numpy를 사용하면 훨씬 더 간편하고 깔끔하게 코드를 작성할 수 있다."
      ]
    },
    {
      "cell_type": "code",
      "metadata": {
        "colab": {
          "base_uri": "https://localhost:8080/"
        },
        "id": "Otq5r6WCz_pI",
        "outputId": "8240123c-08f3-4c75-952b-6993713050ba"
      },
      "source": [
        "a = np.arange(1, 11)\n",
        "b = np.arange(11, 21)\n",
        "c = a + b\n",
        "print(c)"
      ],
      "execution_count": 13,
      "outputs": [
        {
          "output_type": "stream",
          "name": "stdout",
          "text": [
            "[12 14 16 18 20 22 24 26 28 30]\n"
          ]
        }
      ]
    },
    {
      "cell_type": "markdown",
      "metadata": {
        "id": "Xh07X8x80Hlf"
      },
      "source": [
        "## 1.3. Data type"
      ]
    },
    {
      "cell_type": "markdown",
      "metadata": {
        "id": "GmFBAvpbhgqp"
      },
      "source": [
        "dtype 이라는 명령어를 통해서 선언되어 있는 배열의 타입이 무엇인지 바로 확인할 수도 있다. 혹은 데이터 타입이 무엇인지 먼저 선언해줌으로써 해당 배열의 데이터 타입을 정할 수도 있다."
      ]
    },
    {
      "cell_type": "code",
      "metadata": {
        "colab": {
          "base_uri": "https://localhost:8080/"
        },
        "id": "VImsTr_Yh2-x",
        "outputId": "5bbf855b-471f-4d2e-8848-9e182af2765f"
      },
      "source": [
        "# Creating an array\n",
        "import numpy as np\n",
        "a = np.array([2,4,6,8,10])\n",
        "print(a.dtype)"
      ],
      "execution_count": 14,
      "outputs": [
        {
          "output_type": "stream",
          "name": "stdout",
          "text": [
            "int64\n"
          ]
        }
      ]
    },
    {
      "cell_type": "code",
      "metadata": {
        "colab": {
          "base_uri": "https://localhost:8080/"
        },
        "id": "waQj5JcsiLhi",
        "outputId": "20ef811f-bb87-431c-ac32-061916d3b7be"
      },
      "source": [
        "# Create numpy array using arange() function\n",
        "var1 = np.arange(1, 11, dtype='f')\n",
        "print(var1)"
      ],
      "execution_count": 15,
      "outputs": [
        {
          "output_type": "stream",
          "name": "stdout",
          "text": [
            "[ 1.  2.  3.  4.  5.  6.  7.  8.  9. 10.]\n"
          ]
        }
      ]
    },
    {
      "cell_type": "markdown",
      "metadata": {
        "id": "ASqnuWHrMDMg"
      },
      "source": [
        "### Changing the Data Type"
      ]
    },
    {
      "cell_type": "markdown",
      "metadata": {
        "id": "pRjv_XbDcxD0"
      },
      "source": [
        "### ◼ astype( )\n",
        "converts the data type"
      ]
    },
    {
      "cell_type": "code",
      "metadata": {
        "colab": {
          "base_uri": "https://localhost:8080/"
        },
        "id": "588IWOseddPf",
        "outputId": "f180756b-75cb-4412-eae6-7736158f87b7"
      },
      "source": [
        "# create an array\n",
        "arr = np.arange(1, 10).reshape(3,3)\n",
        "print(\"Integer Array:\\n\", arr)"
      ],
      "execution_count": 16,
      "outputs": [
        {
          "output_type": "stream",
          "name": "stdout",
          "text": [
            "Integer Array:\n",
            " [[1 2 3]\n",
            " [4 5 6]\n",
            " [7 8 9]]\n"
          ]
        }
      ]
    },
    {
      "cell_type": "code",
      "metadata": {
        "colab": {
          "base_uri": "https://localhost:8080/"
        },
        "id": "CHGS53BNd6nE",
        "outputId": "7f1c954b-4900-4bbe-8da2-1b700bd549ea"
      },
      "source": [
        "# Change datatype of array\n",
        "arr = arr.astype(float)\n",
        "print(\"Float Array:\\n\", arr)\n",
        "\n",
        "# Check new data type of array\n",
        "print(\"Changed Datatype:\", arr.dtype)"
      ],
      "execution_count": 17,
      "outputs": [
        {
          "output_type": "stream",
          "name": "stdout",
          "text": [
            "Float Array:\n",
            " [[1. 2. 3.]\n",
            " [4. 5. 6.]\n",
            " [7. 8. 9.]]\n",
            "Changed Datatype: float64\n"
          ]
        }
      ]
    },
    {
      "cell_type": "markdown",
      "metadata": {
        "id": "XIk1NYs6eIYs"
      },
      "source": [
        "### ◼  tolist( )\n",
        "coverts the data type of the array."
      ]
    },
    {
      "cell_type": "code",
      "metadata": {
        "colab": {
          "base_uri": "https://localhost:8080/"
        },
        "id": "eMKcNN_-e_xQ",
        "outputId": "28808e47-45b3-4fbb-cdf6-729bf6fd2643"
      },
      "source": [
        "# Create an array\n",
        "arr = np.arange(1, 10)\n",
        "\n",
        "# Convert NumPy array to Python List\n",
        "list1 = arr.tolist()\n",
        "print(list1)"
      ],
      "execution_count": 18,
      "outputs": [
        {
          "output_type": "stream",
          "name": "stdout",
          "text": [
            "[1, 2, 3, 4, 5, 6, 7, 8, 9]\n"
          ]
        }
      ]
    },
    {
      "cell_type": "markdown",
      "metadata": {
        "id": "DTX_OKtkfRUE"
      },
      "source": [
        "## 1.4 Manipulating"
      ]
    },
    {
      "cell_type": "markdown",
      "metadata": {
        "id": "jmj09_kcfz3y"
      },
      "source": [
        "### ◼ reshape( )\n",
        "reshape( ) will change the shape of the array"
      ]
    },
    {
      "cell_type": "code",
      "metadata": {
        "colab": {
          "base_uri": "https://localhost:8080/"
        },
        "id": "-YvCBQVHf7ik",
        "outputId": "83fec5e5-8249-4b35-d30c-155526af94d0"
      },
      "source": [
        "# Create an array\n",
        "arr = np.arange(12)\n",
        "print(arr)"
      ],
      "execution_count": 19,
      "outputs": [
        {
          "output_type": "stream",
          "name": "stdout",
          "text": [
            "[ 0  1  2  3  4  5  6  7  8  9 10 11]\n"
          ]
        }
      ]
    },
    {
      "cell_type": "code",
      "metadata": {
        "colab": {
          "base_uri": "https://localhost:8080/"
        },
        "id": "KvW3z009gtI6",
        "outputId": "1c911b37-9e56-4bde-8c83-0df21a4b856d"
      },
      "source": [
        "# Reshape the array dimension\n",
        "new_arr=arr.reshape(4,3)\n",
        "print(new_arr)"
      ],
      "execution_count": 20,
      "outputs": [
        {
          "output_type": "stream",
          "name": "stdout",
          "text": [
            "[[ 0  1  2]\n",
            " [ 3  4  5]\n",
            " [ 6  7  8]\n",
            " [ 9 10 11]]\n"
          ]
        }
      ]
    },
    {
      "cell_type": "code",
      "metadata": {
        "id": "WqI8qQosjUxJ",
        "colab": {
          "base_uri": "https://localhost:8080/"
        },
        "outputId": "73088065-0286-4a46-ce96-eaccd14392cd"
      },
      "source": [
        "# Reshape the array dimension\n",
        "new_arr2 = arr.reshape(2, -1)\n",
        "print(new_arr2)"
      ],
      "execution_count": 21,
      "outputs": [
        {
          "output_type": "stream",
          "name": "stdout",
          "text": [
            "[[ 0  1  2  3  4  5]\n",
            " [ 6  7  8  9 10 11]]\n"
          ]
        }
      ]
    },
    {
      "cell_type": "markdown",
      "metadata": {
        "id": "ZSY5sKRLdJAq"
      },
      "source": [
        "### ◼ resize( )\n",
        "reshape은 원래 array를 copy해 온 다음에 reshape를 적용하는 것이고, resize는 original array에 접근해서 변환한다."
      ]
    },
    {
      "cell_type": "code",
      "metadata": {
        "colab": {
          "base_uri": "https://localhost:8080/"
        },
        "id": "tX6TNFjCduI4",
        "outputId": "e3769d33-a487-4a44-e730-4bb891cc7049"
      },
      "source": [
        "# Create an array\n",
        "arr = np.arange(12)\n",
        "print(arr)"
      ],
      "execution_count": 22,
      "outputs": [
        {
          "output_type": "stream",
          "name": "stdout",
          "text": [
            "[ 0  1  2  3  4  5  6  7  8  9 10 11]\n"
          ]
        }
      ]
    },
    {
      "cell_type": "code",
      "metadata": {
        "colab": {
          "base_uri": "https://localhost:8080/"
        },
        "id": "t98Jngvdd0El",
        "outputId": "cf187cfc-7916-45c0-d543-e94b54fcf3a7"
      },
      "source": [
        "# resize the matrix with reshape( )\n",
        "# reshape이 arr에 적용되었지만 orginal array에 변화가 적용되지는 않는다.\n",
        "\n",
        "arr.reshape(4, 3)\n",
        "print(arr)"
      ],
      "execution_count": 23,
      "outputs": [
        {
          "output_type": "stream",
          "name": "stdout",
          "text": [
            "[ 0  1  2  3  4  5  6  7  8  9 10 11]\n"
          ]
        }
      ]
    },
    {
      "cell_type": "code",
      "metadata": {
        "colab": {
          "base_uri": "https://localhost:8080/"
        },
        "id": "NmEUDrageNSQ",
        "outputId": "06513234-5ee2-44ac-9232-cd4707b29379"
      },
      "source": [
        "arr.resize(4, 3)\n",
        "print(arr)"
      ],
      "execution_count": 24,
      "outputs": [
        {
          "output_type": "stream",
          "name": "stdout",
          "text": [
            "[[ 0  1  2]\n",
            " [ 3  4  5]\n",
            " [ 6  7  8]\n",
            " [ 9 10 11]]\n"
          ]
        }
      ]
    },
    {
      "cell_type": "markdown",
      "metadata": {
        "id": "5d7MzZRreSZN"
      },
      "source": [
        "### ◼ flatten( )\n",
        "* flatten( ) transforms an n-dimensional array into a one-dimensional array\n",
        "* reshape과 마찬가지로 original array에 영향을 미치지 않는다."
      ]
    },
    {
      "cell_type": "code",
      "metadata": {
        "colab": {
          "base_uri": "https://localhost:8080/"
        },
        "id": "5XeL8DVrfE5L",
        "outputId": "944b6740-8e32-4da3-9c03-84bb4e9ec41f"
      },
      "source": [
        "# Create an array\n",
        "arr = np.arange(1, 10).reshape(3, 3)\n",
        "print(arr)"
      ],
      "execution_count": 25,
      "outputs": [
        {
          "output_type": "stream",
          "name": "stdout",
          "text": [
            "[[1 2 3]\n",
            " [4 5 6]\n",
            " [7 8 9]]\n"
          ]
        }
      ]
    },
    {
      "cell_type": "code",
      "metadata": {
        "colab": {
          "base_uri": "https://localhost:8080/"
        },
        "id": "u7MPf-EFfL7K",
        "outputId": "79806de6-a417-4d68-b798-18fc2d690572"
      },
      "source": [
        "# flatten the array\n",
        "print(arr.flatten())\n",
        "print(arr)"
      ],
      "execution_count": 26,
      "outputs": [
        {
          "output_type": "stream",
          "name": "stdout",
          "text": [
            "[1 2 3 4 5 6 7 8 9]\n",
            "[[1 2 3]\n",
            " [4 5 6]\n",
            " [7 8 9]]\n"
          ]
        }
      ]
    },
    {
      "cell_type": "code",
      "metadata": {
        "colab": {
          "base_uri": "https://localhost:8080/"
        },
        "id": "1lIQFRbCfdVS",
        "outputId": "43d3fb13-4d59-4b88-90a3-f4d88ec1a60c"
      },
      "source": [
        "# reshape(-1)을 사용해서도 flatten()과 동일한 결과를 얻을 수 있다.\n",
        "print(arr.reshape(-1))"
      ],
      "execution_count": 27,
      "outputs": [
        {
          "output_type": "stream",
          "name": "stdout",
          "text": [
            "[1 2 3 4 5 6 7 8 9]\n"
          ]
        }
      ]
    },
    {
      "cell_type": "markdown",
      "metadata": {
        "id": "8X_2v6F5fsd1"
      },
      "source": [
        "### ◼ ravel( )\n",
        "ravel( ) is similar to the flatten( ) but it returns the reference of the original array.\n",
        "* faster than flatten.\n",
        "* affects on original array. "
      ]
    },
    {
      "cell_type": "code",
      "metadata": {
        "colab": {
          "base_uri": "https://localhost:8080/"
        },
        "id": "yAVx81WJgS_A",
        "outputId": "9ec52e02-af63-4c6b-f1ed-808b60332a88"
      },
      "source": [
        "# Create an array\n",
        "arr = np.arange(1, 10).reshape(3, 3)\n",
        "print(arr)\n",
        "\n",
        "# ravel( ) function\n",
        "print(arr.ravel())"
      ],
      "execution_count": 72,
      "outputs": [
        {
          "output_type": "stream",
          "name": "stdout",
          "text": [
            "[[1 2 3]\n",
            " [4 5 6]\n",
            " [7 8 9]]\n",
            "[1 2 3 4 5 6 7 8 9]\n"
          ]
        }
      ]
    },
    {
      "cell_type": "markdown",
      "metadata": {
        "id": "NQOaem_OkXk0"
      },
      "source": [
        "flatten은 original array를 접근한 것이 아니라 copy해 온 다음에 적용하는 것이기 때문에 실제 array에는 영향이 없다."
      ]
    },
    {
      "cell_type": "code",
      "metadata": {
        "colab": {
          "base_uri": "https://localhost:8080/"
        },
        "id": "dkwS2hm1m_Ln",
        "outputId": "7e3707b8-3d94-49a3-f8f7-bada0e5886f9"
      },
      "source": [
        "arr.flatten()[8]=999\n",
        "print(arr)"
      ],
      "execution_count": 76,
      "outputs": [
        {
          "output_type": "stream",
          "name": "stdout",
          "text": [
            "[[1 2 3]\n",
            " [4 5 6]\n",
            " [7 8 9]]\n"
          ]
        }
      ]
    },
    {
      "cell_type": "markdown",
      "metadata": {
        "id": "kWe4D00InJ_f"
      },
      "source": [
        "반면 ravel은 original array를 건드리는 것이기 때문에 값이 변한 것을 확인할 수 있다."
      ]
    },
    {
      "cell_type": "code",
      "metadata": {
        "colab": {
          "base_uri": "https://localhost:8080/"
        },
        "id": "Ix1v94WDnS1I",
        "outputId": "65c4ebd1-292a-4d73-cd9d-08801fa968e6"
      },
      "source": [
        "arr.ravel()[8]=999\n",
        "print(arr)"
      ],
      "execution_count": 30,
      "outputs": [
        {
          "output_type": "stream",
          "name": "stdout",
          "text": [
            "[[  1   2   3]\n",
            " [  4   5   6]\n",
            " [  7   8 999]]\n"
          ]
        }
      ]
    },
    {
      "cell_type": "markdown",
      "metadata": {
        "id": "aWnB7BlDnZrj"
      },
      "source": [
        "## 1.5. The Stacking"
      ]
    },
    {
      "cell_type": "markdown",
      "metadata": {
        "id": "zJneX_PSn0qz"
      },
      "source": [
        "### ◼ hstack( )\n",
        "* horizontal stacking\n",
        "* alt.: concatenate()\n",
        "* for 1d array: you can also use column_stack()"
      ]
    },
    {
      "cell_type": "code",
      "metadata": {
        "colab": {
          "base_uri": "https://localhost:8080/"
        },
        "id": "TUp8XyK5oGBZ",
        "outputId": "ce9a0de0-277b-4731-9e4a-2734abb1ca71"
      },
      "source": [
        "arr1 = np.arange(1,10).reshape(3,3)\n",
        "print(arr1)"
      ],
      "execution_count": 31,
      "outputs": [
        {
          "output_type": "stream",
          "name": "stdout",
          "text": [
            "[[1 2 3]\n",
            " [4 5 6]\n",
            " [7 8 9]]\n"
          ]
        }
      ]
    },
    {
      "cell_type": "code",
      "metadata": {
        "colab": {
          "base_uri": "https://localhost:8080/"
        },
        "id": "BMDhyJHNoLcB",
        "outputId": "2133c498-4114-4403-c0e3-6ef9456b0a8d"
      },
      "source": [
        "arr2 = 2*arr1\n",
        "print(arr2)"
      ],
      "execution_count": 32,
      "outputs": [
        {
          "output_type": "stream",
          "name": "stdout",
          "text": [
            "[[ 2  4  6]\n",
            " [ 8 10 12]\n",
            " [14 16 18]]\n"
          ]
        }
      ]
    },
    {
      "cell_type": "code",
      "metadata": {
        "colab": {
          "base_uri": "https://localhost:8080/"
        },
        "id": "MjJvzt5EpEt4",
        "outputId": "27f064f4-7c33-4212-a82c-53acd5b0014b"
      },
      "source": [
        "arr3 = np.hstack((arr1, arr2))\n",
        "print(arr3)"
      ],
      "execution_count": 33,
      "outputs": [
        {
          "output_type": "stream",
          "name": "stdout",
          "text": [
            "[[ 1  2  3  2  4  6]\n",
            " [ 4  5  6  8 10 12]\n",
            " [ 7  8  9 14 16 18]]\n"
          ]
        }
      ]
    },
    {
      "cell_type": "code",
      "metadata": {
        "colab": {
          "base_uri": "https://localhost:8080/"
        },
        "id": "chYmGGvXpIp8",
        "outputId": "5b970498-404b-4529-90ca-72b9ae56c762"
      },
      "source": [
        "# Horizontal stacking using concatenate( ) function\n",
        "# axis=0은 row를 기준으로, axis=1은 column을 기준으로 concatenate한다.\n",
        "\n",
        "arr4 = np.concatenate((arr1, arr2), axis=1)\n",
        "print(arr4)"
      ],
      "execution_count": 34,
      "outputs": [
        {
          "output_type": "stream",
          "name": "stdout",
          "text": [
            "[[ 1  2  3  2  4  6]\n",
            " [ 4  5  6  8 10 12]\n",
            " [ 7  8  9 14 16 18]]\n"
          ]
        }
      ]
    },
    {
      "cell_type": "code",
      "metadata": {
        "colab": {
          "base_uri": "https://localhost:8080/"
        },
        "id": "W1Xygf0GtWD-",
        "outputId": "b1f88216-a2e4-4081-e1c8-835ff441caf4"
      },
      "source": [
        "# Using column_stack() for 1d array.\n",
        "arr1 = np.arange(1, 4)\n",
        "arr2 = np.arange(4, 7)\n",
        "arr3 = np.column_stack((arr1, arr2))\n",
        "print(arr3)"
      ],
      "execution_count": 35,
      "outputs": [
        {
          "output_type": "stream",
          "name": "stdout",
          "text": [
            "[[1 4]\n",
            " [2 5]\n",
            " [3 6]]\n"
          ]
        }
      ]
    },
    {
      "cell_type": "markdown",
      "metadata": {
        "id": "ELDg0Od3qBY9"
      },
      "source": [
        "### ◼ vstack( )\n",
        "* vertical stacking\n",
        "* alt.: concatenate( , axis=0)\n",
        "* for 1d array: you can also use row_stack()"
      ]
    },
    {
      "cell_type": "code",
      "metadata": {
        "colab": {
          "base_uri": "https://localhost:8080/"
        },
        "id": "bL9SCbg4qv2J",
        "outputId": "b8dffdf5-d692-45d0-ad3c-394f706d88a5"
      },
      "source": [
        "arr1 = np.arange(1, 10).reshape(3, 3)\n",
        "print(arr1)"
      ],
      "execution_count": 36,
      "outputs": [
        {
          "output_type": "stream",
          "name": "stdout",
          "text": [
            "[[1 2 3]\n",
            " [4 5 6]\n",
            " [7 8 9]]\n"
          ]
        }
      ]
    },
    {
      "cell_type": "code",
      "metadata": {
        "colab": {
          "base_uri": "https://localhost:8080/"
        },
        "id": "-h1ps25FrYeV",
        "outputId": "47b24e99-e180-4b3c-e788-8423a94c55f3"
      },
      "source": [
        "arr2 = 2*arr1\n",
        "print(arr2)"
      ],
      "execution_count": 37,
      "outputs": [
        {
          "output_type": "stream",
          "name": "stdout",
          "text": [
            "[[ 2  4  6]\n",
            " [ 8 10 12]\n",
            " [14 16 18]]\n"
          ]
        }
      ]
    },
    {
      "cell_type": "code",
      "metadata": {
        "colab": {
          "base_uri": "https://localhost:8080/"
        },
        "id": "8Jl_bLbercaw",
        "outputId": "8f05c222-668c-4f72-c7dd-35e863d203e2"
      },
      "source": [
        "arr5 = np.vstack((arr1, arr2))\n",
        "print(arr5)"
      ],
      "execution_count": 38,
      "outputs": [
        {
          "output_type": "stream",
          "name": "stdout",
          "text": [
            "[[ 1  2  3]\n",
            " [ 4  5  6]\n",
            " [ 7  8  9]\n",
            " [ 2  4  6]\n",
            " [ 8 10 12]\n",
            " [14 16 18]]\n"
          ]
        }
      ]
    },
    {
      "cell_type": "code",
      "metadata": {
        "colab": {
          "base_uri": "https://localhost:8080/"
        },
        "id": "ihk3Lf7crl3G",
        "outputId": "137bbdbb-0859-413c-8478-3e0b262b54bf"
      },
      "source": [
        "arr6 = np.concatenate((arr1, arr2), axis=0)\n",
        "print(arr6)"
      ],
      "execution_count": 39,
      "outputs": [
        {
          "output_type": "stream",
          "name": "stdout",
          "text": [
            "[[ 1  2  3]\n",
            " [ 4  5  6]\n",
            " [ 7  8  9]\n",
            " [ 2  4  6]\n",
            " [ 8 10 12]\n",
            " [14 16 18]]\n"
          ]
        }
      ]
    },
    {
      "cell_type": "code",
      "metadata": {
        "colab": {
          "base_uri": "https://localhost:8080/"
        },
        "id": "JSpbCcz4s9bI",
        "outputId": "79cbc192-8771-474f-e0aa-70bdfb4f9fca"
      },
      "source": [
        "# Using row_stack() for 1d array\n",
        "arr1 = np.arange(1, 4)\n",
        "arr2 = np.arange(4, 7)\n",
        "arr3 = np.row_stack((arr1, arr2))\n",
        "print(arr3)"
      ],
      "execution_count": 40,
      "outputs": [
        {
          "output_type": "stream",
          "name": "stdout",
          "text": [
            "[[1 2 3]\n",
            " [4 5 6]]\n"
          ]
        }
      ]
    },
    {
      "cell_type": "markdown",
      "metadata": {
        "id": "GYgDPxiZtSjQ"
      },
      "source": [
        "### ◼ dstack( )\n",
        "depth stacking, join along with a third axis(depth)"
      ]
    },
    {
      "cell_type": "code",
      "metadata": {
        "colab": {
          "base_uri": "https://localhost:8080/"
        },
        "id": "K0ngYwUQud_a",
        "outputId": "d2a8000d-1b29-4398-fb62-055308caeb3b"
      },
      "source": [
        "arr1 = np.arange(1, 10).reshape(3, 3)\n",
        "print(arr1)\n",
        "arr2 = 2*arr1\n",
        "print(arr2)"
      ],
      "execution_count": 41,
      "outputs": [
        {
          "output_type": "stream",
          "name": "stdout",
          "text": [
            "[[1 2 3]\n",
            " [4 5 6]\n",
            " [7 8 9]]\n",
            "[[ 2  4  6]\n",
            " [ 8 10 12]\n",
            " [14 16 18]]\n"
          ]
        }
      ]
    },
    {
      "cell_type": "code",
      "metadata": {
        "colab": {
          "base_uri": "https://localhost:8080/"
        },
        "id": "mUBegZZ6un5j",
        "outputId": "43f9098a-04b2-47d7-e0df-6ae30d5714ce"
      },
      "source": [
        "arr7 = np.dstack((arr1, arr2))\n",
        "print(arr7)"
      ],
      "execution_count": 42,
      "outputs": [
        {
          "output_type": "stream",
          "name": "stdout",
          "text": [
            "[[[ 1  2]\n",
            "  [ 2  4]\n",
            "  [ 3  6]]\n",
            "\n",
            " [[ 4  8]\n",
            "  [ 5 10]\n",
            "  [ 6 12]]\n",
            "\n",
            " [[ 7 14]\n",
            "  [ 8 16]\n",
            "  [ 9 18]]]\n"
          ]
        }
      ]
    },
    {
      "cell_type": "code",
      "metadata": {
        "colab": {
          "base_uri": "https://localhost:8080/"
        },
        "id": "2de0NuHCuw9n",
        "outputId": "c0ce60e7-fbed-4056-f002-ddee3e39f2fa"
      },
      "source": [
        "print(arr7.shape)"
      ],
      "execution_count": 43,
      "outputs": [
        {
          "output_type": "stream",
          "name": "stdout",
          "text": [
            "(3, 3, 2)\n"
          ]
        }
      ]
    },
    {
      "cell_type": "markdown",
      "metadata": {
        "id": "LcSOcT_8u1xm"
      },
      "source": [
        "## 1.6. Partitioning"
      ]
    },
    {
      "cell_type": "markdown",
      "metadata": {
        "id": "OL8Nd-m1vGLv"
      },
      "source": [
        "### ◼ hsplit( )\n",
        "the given array is divided into equal sub-arrays along the horizontal axis."
      ]
    },
    {
      "cell_type": "code",
      "metadata": {
        "colab": {
          "base_uri": "https://localhost:8080/"
        },
        "id": "QXfiHlpMxqmR",
        "outputId": "45973c9f-e02d-438d-c62a-64d458ea46ed"
      },
      "source": [
        "# Create an array\n",
        "arr = np.arange(1,10).reshape(3,3)\n",
        "print(arr)"
      ],
      "execution_count": 44,
      "outputs": [
        {
          "output_type": "stream",
          "name": "stdout",
          "text": [
            "[[1 2 3]\n",
            " [4 5 6]\n",
            " [7 8 9]]\n"
          ]
        }
      ]
    },
    {
      "cell_type": "code",
      "metadata": {
        "colab": {
          "base_uri": "https://localhost:8080/"
        },
        "id": "0OxDivx187CL",
        "outputId": "390c60fb-d7b3-40d6-da83-972ed4ee7b7e"
      },
      "source": [
        "# Perform horizontal splitting\n",
        "arr_hor_split=np.hsplit(arr,3)\n",
        "print(arr_hor_split)"
      ],
      "execution_count": 45,
      "outputs": [
        {
          "output_type": "stream",
          "name": "stdout",
          "text": [
            "[array([[1],\n",
            "       [4],\n",
            "       [7]]), array([[2],\n",
            "       [5],\n",
            "       [8]]), array([[3],\n",
            "       [6],\n",
            "       [9]])]\n"
          ]
        }
      ]
    },
    {
      "cell_type": "markdown",
      "metadata": {
        "id": "-9dKCxUW9VBb"
      },
      "source": [
        "### ◼ vsplit()\n",
        "the given array is divided into equal sub-arrays along the vertical axis."
      ]
    },
    {
      "cell_type": "code",
      "metadata": {
        "colab": {
          "base_uri": "https://localhost:8080/"
        },
        "id": "FN98ZNrf9iKX",
        "outputId": "5a04a9c4-60c9-40fa-975e-05da56a306ab"
      },
      "source": [
        "# Create an array\n",
        "arr = np.arange(1, 10).reshape(3,3)\n",
        "print(arr)"
      ],
      "execution_count": 46,
      "outputs": [
        {
          "output_type": "stream",
          "name": "stdout",
          "text": [
            "[[1 2 3]\n",
            " [4 5 6]\n",
            " [7 8 9]]\n"
          ]
        }
      ]
    },
    {
      "cell_type": "code",
      "metadata": {
        "colab": {
          "base_uri": "https://localhost:8080/"
        },
        "id": "iyp5IB-J9nck",
        "outputId": "2ca0bcc2-3bf9-42dd-92ef-f8cdabc350b2"
      },
      "source": [
        "# vertical split\n",
        "arr_ver_split=np.vsplit(arr, 3)\n",
        "print(arr_ver_split)"
      ],
      "execution_count": 47,
      "outputs": [
        {
          "output_type": "stream",
          "name": "stdout",
          "text": [
            "[array([[1, 2, 3]]), array([[4, 5, 6]]), array([[7, 8, 9]])]\n"
          ]
        }
      ]
    },
    {
      "cell_type": "markdown",
      "metadata": {
        "id": "SdvkSLID-PN8"
      },
      "source": [
        "### ◼ split()\n",
        "the given array is divided into equal sub-arrays along the given axis.\n",
        "* axis=0; vertical\n",
        "* axis=1; horizontoal"
      ]
    },
    {
      "cell_type": "code",
      "metadata": {
        "colab": {
          "base_uri": "https://localhost:8080/"
        },
        "id": "q4uRDCH9-nqD",
        "outputId": "160bbbbd-08e8-4982-e295-ea5facf99dea"
      },
      "source": [
        "# split with axis=0\n",
        "arr_split=np.split(arr, 3, axis=0)\n",
        "print(arr_split)"
      ],
      "execution_count": 48,
      "outputs": [
        {
          "output_type": "stream",
          "name": "stdout",
          "text": [
            "[array([[1, 2, 3]]), array([[4, 5, 6]]), array([[7, 8, 9]])]\n"
          ]
        }
      ]
    },
    {
      "cell_type": "code",
      "metadata": {
        "colab": {
          "base_uri": "https://localhost:8080/"
        },
        "id": "DUaUOAtY-22I",
        "outputId": "8a33eb0b-2a4a-42b8-dad4-a702bd82cd1f"
      },
      "source": [
        "# split with axis=1\n",
        "arr_split=np.split(arr, 3, axis=1)\n",
        "print(arr_split)"
      ],
      "execution_count": 49,
      "outputs": [
        {
          "output_type": "stream",
          "name": "stdout",
          "text": [
            "[array([[1],\n",
            "       [4],\n",
            "       [7]]), array([[2],\n",
            "       [5],\n",
            "       [8]]), array([[3],\n",
            "       [6],\n",
            "       [9]])]\n"
          ]
        }
      ]
    },
    {
      "cell_type": "markdown",
      "metadata": {
        "id": "8CZd6FSA_FNH"
      },
      "source": [
        "## 1.7. Numpy Views and Copies"
      ]
    },
    {
      "cell_type": "code",
      "metadata": {
        "colab": {
          "base_uri": "https://localhost:8080/"
        },
        "id": "oeDeBVK9L-Uc",
        "outputId": "d5f80616-29e8-4fa3-a15e-43f64159877b"
      },
      "source": [
        "# Create NumPy Array\n",
        "arr = np.arange(1, 5).reshape(2,2)\n",
        "print(arr)\n",
        "\n",
        "# Create shallow copy using View\n",
        "arr_view=arr.view()\n",
        "print(arr_view)\n",
        "\n",
        "# Create Deep Copy\n",
        "arr_copy=arr.copy()\n",
        "print(arr_view)"
      ],
      "execution_count": 50,
      "outputs": [
        {
          "output_type": "stream",
          "name": "stdout",
          "text": [
            "[[1 2]\n",
            " [3 4]]\n",
            "[[1 2]\n",
            " [3 4]]\n",
            "[[1 2]\n",
            " [3 4]]\n"
          ]
        }
      ]
    },
    {
      "cell_type": "code",
      "metadata": {
        "colab": {
          "base_uri": "https://localhost:8080/"
        },
        "id": "ixdTMMGpMkEx",
        "outputId": "8e2a6d6c-3a15-404d-da12-9cea269bd8b5"
      },
      "source": [
        "# Update the values of original array\n",
        "arr[1] = [99, 89]\n",
        "\n",
        "# Check values of array view\n",
        "print(\"View Array:\\n\", arr_view)\n",
        "\n",
        "# Check values of array copy\n",
        "print(\"Copied Array:\\n\", arr_copy)"
      ],
      "execution_count": 51,
      "outputs": [
        {
          "output_type": "stream",
          "name": "stdout",
          "text": [
            "View Array:\n",
            " [[ 1  2]\n",
            " [99 89]]\n",
            "Copied Array:\n",
            " [[1 2]\n",
            " [3 4]]\n"
          ]
        }
      ]
    },
    {
      "cell_type": "markdown",
      "metadata": {
        "id": "VHuU-gJONBsZ"
      },
      "source": [
        "## 1.8. Slicing NumPy Arrays"
      ]
    },
    {
      "cell_type": "code",
      "metadata": {
        "colab": {
          "base_uri": "https://localhost:8080/"
        },
        "id": "rOd5VatzNcQ7",
        "outputId": "51240b1d-1ceb-4203-c125-d2bdbedac5e9"
      },
      "source": [
        "# Create NumPy Array\n",
        "arr = np.arange(10)\n",
        "print(arr)"
      ],
      "execution_count": 52,
      "outputs": [
        {
          "output_type": "stream",
          "name": "stdout",
          "text": [
            "[0 1 2 3 4 5 6 7 8 9]\n"
          ]
        }
      ]
    },
    {
      "cell_type": "code",
      "metadata": {
        "colab": {
          "base_uri": "https://localhost:8080/"
        },
        "id": "_eHMj7AMNjT_",
        "outputId": "3dce2ab9-34dc-4d50-d3f2-baf4e30f1d10"
      },
      "source": [
        "print(arr[3:6])"
      ],
      "execution_count": 53,
      "outputs": [
        {
          "output_type": "stream",
          "name": "stdout",
          "text": [
            "[3 4 5]\n"
          ]
        }
      ]
    },
    {
      "cell_type": "code",
      "metadata": {
        "colab": {
          "base_uri": "https://localhost:8080/"
        },
        "id": "l1FGhIRzNpJs",
        "outputId": "fc1757ce-495d-4312-c0be-076acb3fec08"
      },
      "source": [
        "print(arr[3:])"
      ],
      "execution_count": 54,
      "outputs": [
        {
          "output_type": "stream",
          "name": "stdout",
          "text": [
            "[3 4 5 6 7 8 9]\n"
          ]
        }
      ]
    },
    {
      "cell_type": "code",
      "metadata": {
        "colab": {
          "base_uri": "https://localhost:8080/"
        },
        "id": "IPTFNQqgNr5e",
        "outputId": "ed081367-e4df-419a-c2dc-a0495b7df57f"
      },
      "source": [
        "print(arr[-3:])"
      ],
      "execution_count": 55,
      "outputs": [
        {
          "output_type": "stream",
          "name": "stdout",
          "text": [
            "[7 8 9]\n"
          ]
        }
      ]
    },
    {
      "cell_type": "code",
      "metadata": {
        "colab": {
          "base_uri": "https://localhost:8080/"
        },
        "id": "5ZZhhETsNzDO",
        "outputId": "11aee9f4-3152-4c9b-c9ec-7cea121240c9"
      },
      "source": [
        "print(arr[2:7:2])"
      ],
      "execution_count": 56,
      "outputs": [
        {
          "output_type": "stream",
          "name": "stdout",
          "text": [
            "[2 4 6]\n"
          ]
        }
      ]
    },
    {
      "cell_type": "markdown",
      "metadata": {
        "id": "0ckzi9GZN16v"
      },
      "source": [
        "## 1.9. Boolean Indexing\n",
        "* Boolean indexing returns elements that have a true value for the Boolean expression"
      ]
    },
    {
      "cell_type": "code",
      "metadata": {
        "colab": {
          "base_uri": "https://localhost:8080/"
        },
        "id": "NRvVQbUhPpS7",
        "outputId": "9417658c-1060-4449-f6d8-518389707710"
      },
      "source": [
        "# Create NumPy Array\n",
        "arr = np.arange(21, 41, 2)\n",
        "print(\"Original Array:\\n\", arr)"
      ],
      "execution_count": 57,
      "outputs": [
        {
          "output_type": "stream",
          "name": "stdout",
          "text": [
            "Original Array:\n",
            " [21 23 25 27 29 31 33 35 37 39]\n"
          ]
        }
      ]
    },
    {
      "cell_type": "code",
      "metadata": {
        "colab": {
          "base_uri": "https://localhost:8080/"
        },
        "id": "LpjC_l1_QEOl",
        "outputId": "a5297a81-c532-4078-cf3e-c05156aa00bb"
      },
      "source": [
        "print(arr>30)"
      ],
      "execution_count": 58,
      "outputs": [
        {
          "output_type": "stream",
          "name": "stdout",
          "text": [
            "[False False False False False  True  True  True  True  True]\n"
          ]
        }
      ]
    },
    {
      "cell_type": "code",
      "metadata": {
        "colab": {
          "base_uri": "https://localhost:8080/"
        },
        "id": "Oyxj_IH4QKqk",
        "outputId": "524410cd-b19a-4359-da2d-377e6939106d"
      },
      "source": [
        "# Boolean Indexing\n",
        "print(\"After Boolean Condition:\", arr[arr>30])"
      ],
      "execution_count": 59,
      "outputs": [
        {
          "output_type": "stream",
          "name": "stdout",
          "text": [
            "After Boolean Condition: [31 33 35 37 39]\n"
          ]
        }
      ]
    },
    {
      "cell_type": "markdown",
      "metadata": {
        "id": "QW2GlJDJQSYK"
      },
      "source": [
        "## 1.10. Fancy Indexing\n",
        "* Fancy indexing is a special type of indexing in which elements of an array are selected by an array of indices."
      ]
    },
    {
      "cell_type": "code",
      "metadata": {
        "colab": {
          "base_uri": "https://localhost:8080/"
        },
        "id": "69gJDMvNRaDb",
        "outputId": "514bd3a8-dc4b-47f5-cc47-c3d28901089c"
      },
      "source": [
        "# Create NumPy Array\n",
        "arr = np.arange(1, 21).reshape(5, 4)\n",
        "print(\"Original Array:\\n\", arr)"
      ],
      "execution_count": 60,
      "outputs": [
        {
          "output_type": "stream",
          "name": "stdout",
          "text": [
            "Original Array:\n",
            " [[ 1  2  3  4]\n",
            " [ 5  6  7  8]\n",
            " [ 9 10 11 12]\n",
            " [13 14 15 16]\n",
            " [17 18 19 20]]\n"
          ]
        }
      ]
    },
    {
      "cell_type": "code",
      "metadata": {
        "colab": {
          "base_uri": "https://localhost:8080/"
        },
        "id": "Bb0nXqNdRlV4",
        "outputId": "d14c6182-6490-4772-d647-c2b9a2d30040"
      },
      "source": [
        "# Selecting 1st and 2nd row\n",
        "indices = [1,2]\n",
        "print(\"Selected 1st and 2nd Row:\\n\", arr[indices])"
      ],
      "execution_count": 61,
      "outputs": [
        {
          "output_type": "stream",
          "name": "stdout",
          "text": [
            "Selected 1st and 2nd Row:\n",
            " [[ 5  6  7  8]\n",
            " [ 9 10 11 12]]\n"
          ]
        }
      ]
    },
    {
      "cell_type": "code",
      "metadata": {
        "colab": {
          "base_uri": "https://localhost:8080/"
        },
        "id": "a_iprBzpwcmU",
        "outputId": "69d728ec-15f1-4fe8-df4d-dcf9e177d768"
      },
      "source": [
        "# Selecting 2nd and 3rd row\n",
        "indices = [2, 3]\n",
        "print(\"Selected 2nd and 3rd Row:\\n\", arr[indices])"
      ],
      "execution_count": 62,
      "outputs": [
        {
          "output_type": "stream",
          "name": "stdout",
          "text": [
            "Selected 2nd and 3rd Row:\n",
            " [[ 9 10 11 12]\n",
            " [13 14 15 16]]\n"
          ]
        }
      ]
    },
    {
      "cell_type": "code",
      "metadata": {
        "colab": {
          "base_uri": "https://localhost:8080/"
        },
        "id": "v59da5GWwucb",
        "outputId": "109cad77-46e6-4b58-e34c-bea6822d0efb"
      },
      "source": [
        "# Selecting 1st and 2nd column\n",
        "indices = [1,2]\n",
        "print(\"Selected 1st and 2nd Column:\\n\", arr[:, indices])"
      ],
      "execution_count": 63,
      "outputs": [
        {
          "output_type": "stream",
          "name": "stdout",
          "text": [
            "Selected 1st and 2nd Column:\n",
            " [[ 2  3]\n",
            " [ 6  7]\n",
            " [10 11]\n",
            " [14 15]\n",
            " [18 19]]\n"
          ]
        }
      ]
    },
    {
      "cell_type": "code",
      "metadata": {
        "colab": {
          "base_uri": "https://localhost:8080/"
        },
        "id": "V2gWrLZVxBWf",
        "outputId": "13a44486-e60a-42a5-a4db-d550a54cef29"
      },
      "source": [
        "# Selecting 2nd and 3rd column\n",
        "indices = [2,3]\n",
        "print(\"Selected 2nd and 3rd Column:\\n\", arr[:, indices])"
      ],
      "execution_count": 64,
      "outputs": [
        {
          "output_type": "stream",
          "name": "stdout",
          "text": [
            "Selected 2nd and 3rd Column:\n",
            " [[ 3  4]\n",
            " [ 7  8]\n",
            " [11 12]\n",
            " [15 16]\n",
            " [19 20]]\n"
          ]
        }
      ]
    },
    {
      "cell_type": "markdown",
      "metadata": {
        "id": "APCpIffCxUaw"
      },
      "source": [
        "## 1.11. Broadcasting Arrays\n",
        "* Python lists do not support direct vectorizing arithmetic operations.\n",
        "* NumPy offers a faster-vectorized array operation compared to Python list loop-based operations."
      ]
    },
    {
      "cell_type": "code",
      "metadata": {
        "colab": {
          "base_uri": "https://localhost:8080/"
        },
        "id": "lg9CWNGN2PjQ",
        "outputId": "6cafde1c-10e3-4ea3-de7b-7b06940d6865"
      },
      "source": [
        "# Create NumPy Array\n",
        "arr1 = np.arange(1,5).reshape(2,2)\n",
        "print(arr1)"
      ],
      "execution_count": 65,
      "outputs": [
        {
          "output_type": "stream",
          "name": "stdout",
          "text": [
            "[[1 2]\n",
            " [3 4]]\n"
          ]
        }
      ]
    },
    {
      "cell_type": "code",
      "metadata": {
        "colab": {
          "base_uri": "https://localhost:8080/"
        },
        "id": "OthGu8de2yZL",
        "outputId": "8acd6a55-526f-4da6-8a52-0c0b02617526"
      },
      "source": [
        "# Create another NumPy Array\n",
        "arr2 = np.arange(5, 9).reshape(2,2)\n",
        "print(arr2)"
      ],
      "execution_count": 66,
      "outputs": [
        {
          "output_type": "stream",
          "name": "stdout",
          "text": [
            "[[5 6]\n",
            " [7 8]]\n"
          ]
        }
      ]
    },
    {
      "cell_type": "code",
      "metadata": {
        "colab": {
          "base_uri": "https://localhost:8080/"
        },
        "id": "CiuMukFu25Lu",
        "outputId": "262e27a3-9eca-4242-c34d-59fc0d56fe15"
      },
      "source": [
        "# Add two matrices\n",
        "print(arr1+arr2)"
      ],
      "execution_count": 67,
      "outputs": [
        {
          "output_type": "stream",
          "name": "stdout",
          "text": [
            "[[ 6  8]\n",
            " [10 12]]\n"
          ]
        }
      ]
    },
    {
      "cell_type": "code",
      "metadata": {
        "colab": {
          "base_uri": "https://localhost:8080/"
        },
        "id": "ZKjpuJJU2-D4",
        "outputId": "d97b3e60-222b-4fcc-8d7b-fbb681cd8a99"
      },
      "source": [
        "# Multiply two matrices\n",
        "print(arr1*arr2)"
      ],
      "execution_count": 68,
      "outputs": [
        {
          "output_type": "stream",
          "name": "stdout",
          "text": [
            "[[ 5 12]\n",
            " [21 32]]\n"
          ]
        }
      ]
    },
    {
      "cell_type": "code",
      "metadata": {
        "colab": {
          "base_uri": "https://localhost:8080/"
        },
        "id": "VzQjvB0v3F1V",
        "outputId": "a46752f0-f3c4-4c7b-df43-fec92381a46f"
      },
      "source": [
        "# Add a scaler value\n",
        "print(arr1 + 3)"
      ],
      "execution_count": 69,
      "outputs": [
        {
          "output_type": "stream",
          "name": "stdout",
          "text": [
            "[[4 5]\n",
            " [6 7]]\n"
          ]
        }
      ]
    },
    {
      "cell_type": "code",
      "metadata": {
        "colab": {
          "base_uri": "https://localhost:8080/"
        },
        "id": "5HOkphQl3L_c",
        "outputId": "135e789b-676a-48e2-a49c-bea5fe3846c3"
      },
      "source": [
        "# Multiply with a scalar value\n",
        "print(arr1*3)"
      ],
      "execution_count": 70,
      "outputs": [
        {
          "output_type": "stream",
          "name": "stdout",
          "text": [
            "[[ 3  6]\n",
            " [ 9 12]]\n"
          ]
        }
      ]
    },
    {
      "cell_type": "markdown",
      "metadata": {
        "id": "XtHNzQ2tp9_9"
      },
      "source": [
        "# 2. Pandas"
      ]
    },
    {
      "cell_type": "markdown",
      "metadata": {
        "id": "LWEOj5EFvsf0"
      },
      "source": [
        "## Creating Pandas DataFrames"
      ]
    },
    {
      "cell_type": "code",
      "metadata": {
        "colab": {
          "base_uri": "https://localhost:8080/",
          "height": 32
        },
        "id": "e6wTsXVwv2IF",
        "outputId": "1687d9a8-c213-4414-9a74-3e4a984f70e4"
      },
      "source": [
        "import pandas as pd\n",
        "df = pd.DataFrame()\n",
        "df.head()"
      ],
      "execution_count": 95,
      "outputs": [
        {
          "output_type": "execute_result",
          "data": {
            "text/html": [
              "<div>\n",
              "<style scoped>\n",
              "    .dataframe tbody tr th:only-of-type {\n",
              "        vertical-align: middle;\n",
              "    }\n",
              "\n",
              "    .dataframe tbody tr th {\n",
              "        vertical-align: top;\n",
              "    }\n",
              "\n",
              "    .dataframe thead th {\n",
              "        text-align: right;\n",
              "    }\n",
              "</style>\n",
              "<table border=\"1\" class=\"dataframe\">\n",
              "  <thead>\n",
              "    <tr style=\"text-align: right;\">\n",
              "      <th></th>\n",
              "    </tr>\n",
              "  </thead>\n",
              "  <tbody>\n",
              "  </tbody>\n",
              "</table>\n",
              "</div>"
            ],
            "text/plain": [
              "Empty DataFrame\n",
              "Columns: []\n",
              "Index: []"
            ]
          },
          "metadata": {},
          "execution_count": 95
        }
      ]
    },
    {
      "cell_type": "code",
      "metadata": {
        "colab": {
          "base_uri": "https://localhost:8080/",
          "height": 173
        },
        "id": "1XihEGMQv82C",
        "outputId": "f9cd8114-8a75-4ac3-e9ae-aa6b2f00fc1e"
      },
      "source": [
        "# Create dictionary of list\n",
        "data = {'Name': ['Vijay', 'Sundar', 'Satyam', 'Indira'],\n",
        "        'Age': [23, 45, 46, 52]}\n",
        "df = pd.DataFrame(data)\n",
        "df.head()"
      ],
      "execution_count": 96,
      "outputs": [
        {
          "output_type": "execute_result",
          "data": {
            "text/html": [
              "<div>\n",
              "<style scoped>\n",
              "    .dataframe tbody tr th:only-of-type {\n",
              "        vertical-align: middle;\n",
              "    }\n",
              "\n",
              "    .dataframe tbody tr th {\n",
              "        vertical-align: top;\n",
              "    }\n",
              "\n",
              "    .dataframe thead th {\n",
              "        text-align: right;\n",
              "    }\n",
              "</style>\n",
              "<table border=\"1\" class=\"dataframe\">\n",
              "  <thead>\n",
              "    <tr style=\"text-align: right;\">\n",
              "      <th></th>\n",
              "      <th>Name</th>\n",
              "      <th>Age</th>\n",
              "    </tr>\n",
              "  </thead>\n",
              "  <tbody>\n",
              "    <tr>\n",
              "      <th>0</th>\n",
              "      <td>Vijay</td>\n",
              "      <td>23</td>\n",
              "    </tr>\n",
              "    <tr>\n",
              "      <th>1</th>\n",
              "      <td>Sundar</td>\n",
              "      <td>45</td>\n",
              "    </tr>\n",
              "    <tr>\n",
              "      <th>2</th>\n",
              "      <td>Satyam</td>\n",
              "      <td>46</td>\n",
              "    </tr>\n",
              "    <tr>\n",
              "      <th>3</th>\n",
              "      <td>Indira</td>\n",
              "      <td>52</td>\n",
              "    </tr>\n",
              "  </tbody>\n",
              "</table>\n",
              "</div>"
            ],
            "text/plain": [
              "     Name  Age\n",
              "0   Vijay   23\n",
              "1  Sundar   45\n",
              "2  Satyam   46\n",
              "3  Indira   52"
            ]
          },
          "metadata": {},
          "execution_count": 96
        }
      ]
    },
    {
      "cell_type": "code",
      "metadata": {
        "colab": {
          "base_uri": "https://localhost:8080/",
          "height": 142
        },
        "id": "FLsVKWjYwRfj",
        "outputId": "9b31fc3a-c242-4a7e-8a43-8cc5a47c4e04"
      },
      "source": [
        "# Pandas DataFrame by lists of dicts\n",
        "# Initialize data to lists.\n",
        "data = [{'Name': 'Vijay', 'Age': 23},\n",
        "        {'Name': 'Sundar', 'Age': 25},\n",
        "        {'Name': 'Shankar', 'Age': 26}]\n",
        "df = pd.DataFrame(data, columns=['Name', 'Age'])\n",
        "df.head()"
      ],
      "execution_count": 98,
      "outputs": [
        {
          "output_type": "execute_result",
          "data": {
            "text/html": [
              "<div>\n",
              "<style scoped>\n",
              "    .dataframe tbody tr th:only-of-type {\n",
              "        vertical-align: middle;\n",
              "    }\n",
              "\n",
              "    .dataframe tbody tr th {\n",
              "        vertical-align: top;\n",
              "    }\n",
              "\n",
              "    .dataframe thead th {\n",
              "        text-align: right;\n",
              "    }\n",
              "</style>\n",
              "<table border=\"1\" class=\"dataframe\">\n",
              "  <thead>\n",
              "    <tr style=\"text-align: right;\">\n",
              "      <th></th>\n",
              "      <th>Name</th>\n",
              "      <th>Age</th>\n",
              "    </tr>\n",
              "  </thead>\n",
              "  <tbody>\n",
              "    <tr>\n",
              "      <th>0</th>\n",
              "      <td>Vijay</td>\n",
              "      <td>23</td>\n",
              "    </tr>\n",
              "    <tr>\n",
              "      <th>1</th>\n",
              "      <td>Sundar</td>\n",
              "      <td>25</td>\n",
              "    </tr>\n",
              "    <tr>\n",
              "      <th>2</th>\n",
              "      <td>Shankar</td>\n",
              "      <td>26</td>\n",
              "    </tr>\n",
              "  </tbody>\n",
              "</table>\n",
              "</div>"
            ],
            "text/plain": [
              "      Name  Age\n",
              "0    Vijay   23\n",
              "1   Sundar   25\n",
              "2  Shankar   26"
            ]
          },
          "metadata": {},
          "execution_count": 98
        }
      ]
    },
    {
      "cell_type": "markdown",
      "metadata": {
        "id": "92xnlZvvy9Fe"
      },
      "source": [
        "## Pandas Series"
      ]
    },
    {
      "cell_type": "code",
      "metadata": {
        "colab": {
          "base_uri": "https://localhost:8080/"
        },
        "id": "s0Ep8JQZzdgu",
        "outputId": "93101f81-7ccc-4f70-9a9c-9d5e6925e385"
      },
      "source": [
        "# Creating Pandas Series using Dictionary\n",
        "dict1 = {0: 'Ajay', 1: 'Jay', 2: 'Vijay'}\n",
        "# Create Pandas Series\n",
        "series = pd.Series(dict1)\n",
        "series"
      ],
      "execution_count": 100,
      "outputs": [
        {
          "output_type": "execute_result",
          "data": {
            "text/plain": [
              "0     Ajay\n",
              "1      Jay\n",
              "2    Vijay\n",
              "dtype: object"
            ]
          },
          "metadata": {},
          "execution_count": 100
        }
      ]
    },
    {
      "cell_type": "code",
      "metadata": {
        "colab": {
          "base_uri": "https://localhost:8080/"
        },
        "id": "ZuQ05LyHz3MQ",
        "outputId": "269fd85c-67cd-464b-ae12-0b2cd005c358"
      },
      "source": [
        "# load Pandas and NumPy\n",
        "import pandas as pd\n",
        "import numpy as np\n",
        "# Create NumPy array\n",
        "arr = np.array([51, 65, 48, 59, 68])\n",
        "# Create Pandas Series\n",
        "series = pd.Series(arr)\n",
        "series"
      ],
      "execution_count": 101,
      "outputs": [
        {
          "output_type": "execute_result",
          "data": {
            "text/plain": [
              "0    51\n",
              "1    65\n",
              "2    48\n",
              "3    59\n",
              "4    68\n",
              "dtype: int64"
            ]
          },
          "metadata": {},
          "execution_count": 101
        }
      ]
    },
    {
      "cell_type": "markdown",
      "metadata": {
        "id": "w0foFx2d1Wa0"
      },
      "source": [
        "## Load CSV using Pandas"
      ]
    },
    {
      "cell_type": "code",
      "metadata": {
        "colab": {
          "base_uri": "https://localhost:8080/"
        },
        "id": "TyKPdQhU1dCc",
        "outputId": "30c56923-3c51-4ba9-fce1-5284623db25d"
      },
      "source": [
        "!git clone https://github.com/PacktPublishing/Python-Data-Analysis-Third-Edition"
      ],
      "execution_count": 102,
      "outputs": [
        {
          "output_type": "stream",
          "name": "stdout",
          "text": [
            "Cloning into 'Python-Data-Analysis-Third-Edition'...\n",
            "remote: Enumerating objects: 288, done.\u001b[K\n",
            "remote: Counting objects: 100% (178/178), done.\u001b[K\n",
            "remote: Compressing objects: 100% (149/149), done.\u001b[K\n",
            "remote: Total 288 (delta 58), reused 83 (delta 7), pack-reused 110\u001b[K\n",
            "Receiving objects: 100% (288/288), 7.88 MiB | 18.04 MiB/s, done.\n",
            "Resolving deltas: 100% (87/87), done.\n"
          ]
        }
      ]
    },
    {
      "cell_type": "code",
      "metadata": {
        "colab": {
          "base_uri": "https://localhost:8080/",
          "height": 238
        },
        "id": "uzJZQuC-1l7R",
        "outputId": "7b6d5cdc-ed0d-410c-b7c1-b3368f2ea60d"
      },
      "source": [
        "# Import pandas\n",
        "import pandas as pd\n",
        "\n",
        "# Load data using read_csv()\n",
        "df = pd.read_csv(\"Python-Data-Analysis-Third-Edition/Chapter02/WHO_first9cols.csv\")\n",
        "\n",
        "# show initial 5 records\n",
        "df.head()"
      ],
      "execution_count": 103,
      "outputs": [
        {
          "output_type": "execute_result",
          "data": {
            "text/html": [
              "<div>\n",
              "<style scoped>\n",
              "    .dataframe tbody tr th:only-of-type {\n",
              "        vertical-align: middle;\n",
              "    }\n",
              "\n",
              "    .dataframe tbody tr th {\n",
              "        vertical-align: top;\n",
              "    }\n",
              "\n",
              "    .dataframe thead th {\n",
              "        text-align: right;\n",
              "    }\n",
              "</style>\n",
              "<table border=\"1\" class=\"dataframe\">\n",
              "  <thead>\n",
              "    <tr style=\"text-align: right;\">\n",
              "      <th></th>\n",
              "      <th>Country</th>\n",
              "      <th>CountryID</th>\n",
              "      <th>Continent</th>\n",
              "      <th>Adolescent fertility rate (%)</th>\n",
              "      <th>Adult literacy rate (%)</th>\n",
              "      <th>Gross national income per capita (PPP international $)</th>\n",
              "      <th>Net primary school enrolment ratio female (%)</th>\n",
              "      <th>Net primary school enrolment ratio male (%)</th>\n",
              "      <th>Population (in thousands) total</th>\n",
              "    </tr>\n",
              "  </thead>\n",
              "  <tbody>\n",
              "    <tr>\n",
              "      <th>0</th>\n",
              "      <td>Afghanistan</td>\n",
              "      <td>1</td>\n",
              "      <td>1</td>\n",
              "      <td>151.0</td>\n",
              "      <td>28.0</td>\n",
              "      <td>NaN</td>\n",
              "      <td>NaN</td>\n",
              "      <td>NaN</td>\n",
              "      <td>26088.0</td>\n",
              "    </tr>\n",
              "    <tr>\n",
              "      <th>1</th>\n",
              "      <td>Albania</td>\n",
              "      <td>2</td>\n",
              "      <td>2</td>\n",
              "      <td>27.0</td>\n",
              "      <td>98.7</td>\n",
              "      <td>6000.0</td>\n",
              "      <td>93.0</td>\n",
              "      <td>94.0</td>\n",
              "      <td>3172.0</td>\n",
              "    </tr>\n",
              "    <tr>\n",
              "      <th>2</th>\n",
              "      <td>Algeria</td>\n",
              "      <td>3</td>\n",
              "      <td>3</td>\n",
              "      <td>6.0</td>\n",
              "      <td>69.9</td>\n",
              "      <td>5940.0</td>\n",
              "      <td>94.0</td>\n",
              "      <td>96.0</td>\n",
              "      <td>33351.0</td>\n",
              "    </tr>\n",
              "    <tr>\n",
              "      <th>3</th>\n",
              "      <td>Andorra</td>\n",
              "      <td>4</td>\n",
              "      <td>2</td>\n",
              "      <td>NaN</td>\n",
              "      <td>NaN</td>\n",
              "      <td>NaN</td>\n",
              "      <td>83.0</td>\n",
              "      <td>83.0</td>\n",
              "      <td>74.0</td>\n",
              "    </tr>\n",
              "    <tr>\n",
              "      <th>4</th>\n",
              "      <td>Angola</td>\n",
              "      <td>5</td>\n",
              "      <td>3</td>\n",
              "      <td>146.0</td>\n",
              "      <td>67.4</td>\n",
              "      <td>3890.0</td>\n",
              "      <td>49.0</td>\n",
              "      <td>51.0</td>\n",
              "      <td>16557.0</td>\n",
              "    </tr>\n",
              "  </tbody>\n",
              "</table>\n",
              "</div>"
            ],
            "text/plain": [
              "       Country  ...  Population (in thousands) total\n",
              "0  Afghanistan  ...                          26088.0\n",
              "1      Albania  ...                           3172.0\n",
              "2      Algeria  ...                          33351.0\n",
              "3      Andorra  ...                             74.0\n",
              "4       Angola  ...                          16557.0\n",
              "\n",
              "[5 rows x 9 columns]"
            ]
          },
          "metadata": {},
          "execution_count": 103
        }
      ]
    },
    {
      "cell_type": "markdown",
      "metadata": {
        "id": "nx1alUOH15Dv"
      },
      "source": [
        "## Extract Series from DataFrame"
      ]
    },
    {
      "cell_type": "code",
      "metadata": {
        "colab": {
          "base_uri": "https://localhost:8080/"
        },
        "id": "bPZ-pHxS2Atd",
        "outputId": "f992ad8b-222f-4e99-a5d5-dbfa9a471a70"
      },
      "source": [
        "# Select a series\n",
        "country_series = df['Country']\n",
        "print(country_series)"
      ],
      "execution_count": 104,
      "outputs": [
        {
          "output_type": "stream",
          "name": "stdout",
          "text": [
            "0             Afghanistan\n",
            "1                 Albania\n",
            "2                 Algeria\n",
            "3                 Andorra\n",
            "4                  Angola\n",
            "              ...        \n",
            "197               Vietnam\n",
            "198    West Bank and Gaza\n",
            "199                 Yemen\n",
            "200                Zambia\n",
            "201              Zimbabwe\n",
            "Name: Country, Length: 202, dtype: object\n"
          ]
        }
      ]
    },
    {
      "cell_type": "code",
      "metadata": {
        "colab": {
          "base_uri": "https://localhost:8080/",
          "height": 331
        },
        "id": "hEL8bmh22Id3",
        "outputId": "e418fe5a-00f0-4079-bd50-e0ab66ea48ba"
      },
      "source": [
        "# Describe the dataset\n",
        "df.describe()"
      ],
      "execution_count": 105,
      "outputs": [
        {
          "output_type": "execute_result",
          "data": {
            "text/html": [
              "<div>\n",
              "<style scoped>\n",
              "    .dataframe tbody tr th:only-of-type {\n",
              "        vertical-align: middle;\n",
              "    }\n",
              "\n",
              "    .dataframe tbody tr th {\n",
              "        vertical-align: top;\n",
              "    }\n",
              "\n",
              "    .dataframe thead th {\n",
              "        text-align: right;\n",
              "    }\n",
              "</style>\n",
              "<table border=\"1\" class=\"dataframe\">\n",
              "  <thead>\n",
              "    <tr style=\"text-align: right;\">\n",
              "      <th></th>\n",
              "      <th>CountryID</th>\n",
              "      <th>Continent</th>\n",
              "      <th>Adolescent fertility rate (%)</th>\n",
              "      <th>Adult literacy rate (%)</th>\n",
              "      <th>Gross national income per capita (PPP international $)</th>\n",
              "      <th>Net primary school enrolment ratio female (%)</th>\n",
              "      <th>Net primary school enrolment ratio male (%)</th>\n",
              "      <th>Population (in thousands) total</th>\n",
              "    </tr>\n",
              "  </thead>\n",
              "  <tbody>\n",
              "    <tr>\n",
              "      <th>count</th>\n",
              "      <td>202.000000</td>\n",
              "      <td>202.000000</td>\n",
              "      <td>177.000000</td>\n",
              "      <td>131.000000</td>\n",
              "      <td>178.000000</td>\n",
              "      <td>179.000000</td>\n",
              "      <td>179.000000</td>\n",
              "      <td>1.890000e+02</td>\n",
              "    </tr>\n",
              "    <tr>\n",
              "      <th>mean</th>\n",
              "      <td>101.500000</td>\n",
              "      <td>3.579208</td>\n",
              "      <td>59.457627</td>\n",
              "      <td>78.871756</td>\n",
              "      <td>11250.112360</td>\n",
              "      <td>84.033520</td>\n",
              "      <td>85.698324</td>\n",
              "      <td>3.409964e+04</td>\n",
              "    </tr>\n",
              "    <tr>\n",
              "      <th>std</th>\n",
              "      <td>58.456537</td>\n",
              "      <td>1.808263</td>\n",
              "      <td>49.105286</td>\n",
              "      <td>20.415760</td>\n",
              "      <td>12586.753417</td>\n",
              "      <td>17.788047</td>\n",
              "      <td>15.451212</td>\n",
              "      <td>1.318377e+05</td>\n",
              "    </tr>\n",
              "    <tr>\n",
              "      <th>min</th>\n",
              "      <td>1.000000</td>\n",
              "      <td>1.000000</td>\n",
              "      <td>0.000000</td>\n",
              "      <td>23.600000</td>\n",
              "      <td>260.000000</td>\n",
              "      <td>6.000000</td>\n",
              "      <td>11.000000</td>\n",
              "      <td>2.000000e+00</td>\n",
              "    </tr>\n",
              "    <tr>\n",
              "      <th>25%</th>\n",
              "      <td>51.250000</td>\n",
              "      <td>2.000000</td>\n",
              "      <td>19.000000</td>\n",
              "      <td>68.400000</td>\n",
              "      <td>2112.500000</td>\n",
              "      <td>79.000000</td>\n",
              "      <td>79.500000</td>\n",
              "      <td>1.328000e+03</td>\n",
              "    </tr>\n",
              "    <tr>\n",
              "      <th>50%</th>\n",
              "      <td>101.500000</td>\n",
              "      <td>3.000000</td>\n",
              "      <td>46.000000</td>\n",
              "      <td>86.500000</td>\n",
              "      <td>6175.000000</td>\n",
              "      <td>90.000000</td>\n",
              "      <td>90.000000</td>\n",
              "      <td>6.640000e+03</td>\n",
              "    </tr>\n",
              "    <tr>\n",
              "      <th>75%</th>\n",
              "      <td>151.750000</td>\n",
              "      <td>5.000000</td>\n",
              "      <td>91.000000</td>\n",
              "      <td>95.300000</td>\n",
              "      <td>14502.500000</td>\n",
              "      <td>96.000000</td>\n",
              "      <td>96.000000</td>\n",
              "      <td>2.097100e+04</td>\n",
              "    </tr>\n",
              "    <tr>\n",
              "      <th>max</th>\n",
              "      <td>202.000000</td>\n",
              "      <td>7.000000</td>\n",
              "      <td>199.000000</td>\n",
              "      <td>99.800000</td>\n",
              "      <td>60870.000000</td>\n",
              "      <td>100.000000</td>\n",
              "      <td>100.000000</td>\n",
              "      <td>1.328474e+06</td>\n",
              "    </tr>\n",
              "  </tbody>\n",
              "</table>\n",
              "</div>"
            ],
            "text/plain": [
              "        CountryID  ...  Population (in thousands) total\n",
              "count  202.000000  ...                     1.890000e+02\n",
              "mean   101.500000  ...                     3.409964e+04\n",
              "std     58.456537  ...                     1.318377e+05\n",
              "min      1.000000  ...                     2.000000e+00\n",
              "25%     51.250000  ...                     1.328000e+03\n",
              "50%    101.500000  ...                     6.640000e+03\n",
              "75%    151.750000  ...                     2.097100e+04\n",
              "max    202.000000  ...                     1.328474e+06\n",
              "\n",
              "[8 rows x 8 columns]"
            ]
          },
          "metadata": {},
          "execution_count": 105
        }
      ]
    },
    {
      "cell_type": "code",
      "metadata": {
        "colab": {
          "base_uri": "https://localhost:8080/"
        },
        "id": "UbsN-SsC4HpH",
        "outputId": "ae33c663-24d9-4fa8-db18-7c3a94ad7acd"
      },
      "source": [
        "df.count()"
      ],
      "execution_count": 106,
      "outputs": [
        {
          "output_type": "execute_result",
          "data": {
            "text/plain": [
              "Country                                                   202\n",
              "CountryID                                                 202\n",
              "Continent                                                 202\n",
              "Adolescent fertility rate (%)                             177\n",
              "Adult literacy rate (%)                                   131\n",
              "Gross national income per capita (PPP international $)    178\n",
              "Net primary school enrolment ratio female (%)             179\n",
              "Net primary school enrolment ratio male (%)               179\n",
              "Population (in thousands) total                           189\n",
              "dtype: int64"
            ]
          },
          "metadata": {},
          "execution_count": 106
        }
      ]
    },
    {
      "cell_type": "code",
      "metadata": {
        "colab": {
          "base_uri": "https://localhost:8080/",
          "height": 331
        },
        "id": "Y4iLoDd84pHI",
        "outputId": "c3ffab44-8b79-420e-f8e4-be527a6b7647"
      },
      "source": [
        "# Group by dataframe on the basis of Continent column\n",
        "df.groupby('Continent').mean()"
      ],
      "execution_count": 107,
      "outputs": [
        {
          "output_type": "execute_result",
          "data": {
            "text/html": [
              "<div>\n",
              "<style scoped>\n",
              "    .dataframe tbody tr th:only-of-type {\n",
              "        vertical-align: middle;\n",
              "    }\n",
              "\n",
              "    .dataframe tbody tr th {\n",
              "        vertical-align: top;\n",
              "    }\n",
              "\n",
              "    .dataframe thead th {\n",
              "        text-align: right;\n",
              "    }\n",
              "</style>\n",
              "<table border=\"1\" class=\"dataframe\">\n",
              "  <thead>\n",
              "    <tr style=\"text-align: right;\">\n",
              "      <th></th>\n",
              "      <th>CountryID</th>\n",
              "      <th>Adolescent fertility rate (%)</th>\n",
              "      <th>Adult literacy rate (%)</th>\n",
              "      <th>Gross national income per capita (PPP international $)</th>\n",
              "      <th>Net primary school enrolment ratio female (%)</th>\n",
              "      <th>Net primary school enrolment ratio male (%)</th>\n",
              "      <th>Population (in thousands) total</th>\n",
              "    </tr>\n",
              "    <tr>\n",
              "      <th>Continent</th>\n",
              "      <th></th>\n",
              "      <th></th>\n",
              "      <th></th>\n",
              "      <th></th>\n",
              "      <th></th>\n",
              "      <th></th>\n",
              "      <th></th>\n",
              "    </tr>\n",
              "  </thead>\n",
              "  <tbody>\n",
              "    <tr>\n",
              "      <th>1</th>\n",
              "      <td>110.238095</td>\n",
              "      <td>37.300000</td>\n",
              "      <td>76.900000</td>\n",
              "      <td>14893.529412</td>\n",
              "      <td>85.789474</td>\n",
              "      <td>88.315789</td>\n",
              "      <td>16843.350000</td>\n",
              "    </tr>\n",
              "    <tr>\n",
              "      <th>2</th>\n",
              "      <td>100.333333</td>\n",
              "      <td>20.500000</td>\n",
              "      <td>97.911538</td>\n",
              "      <td>19777.083333</td>\n",
              "      <td>92.911111</td>\n",
              "      <td>93.088889</td>\n",
              "      <td>17259.627451</td>\n",
              "    </tr>\n",
              "    <tr>\n",
              "      <th>3</th>\n",
              "      <td>99.354167</td>\n",
              "      <td>111.644444</td>\n",
              "      <td>61.690476</td>\n",
              "      <td>3050.434783</td>\n",
              "      <td>67.574468</td>\n",
              "      <td>72.021277</td>\n",
              "      <td>16503.195652</td>\n",
              "    </tr>\n",
              "    <tr>\n",
              "      <th>4</th>\n",
              "      <td>56.285714</td>\n",
              "      <td>49.600000</td>\n",
              "      <td>91.600000</td>\n",
              "      <td>24524.000000</td>\n",
              "      <td>95.000000</td>\n",
              "      <td>94.400000</td>\n",
              "      <td>73577.333333</td>\n",
              "    </tr>\n",
              "    <tr>\n",
              "      <th>5</th>\n",
              "      <td>94.774194</td>\n",
              "      <td>77.888889</td>\n",
              "      <td>87.940909</td>\n",
              "      <td>7397.142857</td>\n",
              "      <td>89.137931</td>\n",
              "      <td>88.517241</td>\n",
              "      <td>15637.241379</td>\n",
              "    </tr>\n",
              "    <tr>\n",
              "      <th>6</th>\n",
              "      <td>121.228571</td>\n",
              "      <td>39.260870</td>\n",
              "      <td>87.607143</td>\n",
              "      <td>12167.200000</td>\n",
              "      <td>89.040000</td>\n",
              "      <td>89.960000</td>\n",
              "      <td>25517.142857</td>\n",
              "    </tr>\n",
              "    <tr>\n",
              "      <th>7</th>\n",
              "      <td>80.777778</td>\n",
              "      <td>57.333333</td>\n",
              "      <td>69.812500</td>\n",
              "      <td>2865.555556</td>\n",
              "      <td>85.444444</td>\n",
              "      <td>88.888889</td>\n",
              "      <td>317683.666667</td>\n",
              "    </tr>\n",
              "  </tbody>\n",
              "</table>\n",
              "</div>"
            ],
            "text/plain": [
              "            CountryID  ...  Population (in thousands) total\n",
              "Continent              ...                                 \n",
              "1          110.238095  ...                     16843.350000\n",
              "2          100.333333  ...                     17259.627451\n",
              "3           99.354167  ...                     16503.195652\n",
              "4           56.285714  ...                     73577.333333\n",
              "5           94.774194  ...                     15637.241379\n",
              "6          121.228571  ...                     25517.142857\n",
              "7           80.777778  ...                    317683.666667\n",
              "\n",
              "[7 rows x 7 columns]"
            ]
          },
          "metadata": {},
          "execution_count": 107
        }
      ]
    },
    {
      "cell_type": "markdown",
      "metadata": {
        "id": "gA_g_K8x50ap"
      },
      "source": [
        "## Joining"
      ]
    },
    {
      "cell_type": "code",
      "metadata": {
        "id": "qgvY45it67Xu"
      },
      "source": [
        "dest = pd.read_csv(\"Python-Data-Analysis-Third-Edition/Chapter02/dest.csv\")\n",
        "tips = pd.read_csv(\"Python-Data-Analysis-Third-Edition/Chapter02/tips.csv\")"
      ],
      "execution_count": 111,
      "outputs": []
    },
    {
      "cell_type": "code",
      "metadata": {
        "colab": {
          "base_uri": "https://localhost:8080/",
          "height": 142
        },
        "id": "BglLsWtK7XMl",
        "outputId": "f6f2ff5c-c640-4ea8-a138-8fb93a3dafcb"
      },
      "source": [
        "dest.head()"
      ],
      "execution_count": 113,
      "outputs": [
        {
          "output_type": "execute_result",
          "data": {
            "text/html": [
              "<div>\n",
              "<style scoped>\n",
              "    .dataframe tbody tr th:only-of-type {\n",
              "        vertical-align: middle;\n",
              "    }\n",
              "\n",
              "    .dataframe tbody tr th {\n",
              "        vertical-align: top;\n",
              "    }\n",
              "\n",
              "    .dataframe thead th {\n",
              "        text-align: right;\n",
              "    }\n",
              "</style>\n",
              "<table border=\"1\" class=\"dataframe\">\n",
              "  <thead>\n",
              "    <tr style=\"text-align: right;\">\n",
              "      <th></th>\n",
              "      <th>EmpNr</th>\n",
              "      <th>Dest</th>\n",
              "    </tr>\n",
              "  </thead>\n",
              "  <tbody>\n",
              "    <tr>\n",
              "      <th>0</th>\n",
              "      <td>5</td>\n",
              "      <td>The Hague</td>\n",
              "    </tr>\n",
              "    <tr>\n",
              "      <th>1</th>\n",
              "      <td>3</td>\n",
              "      <td>Amsterdam</td>\n",
              "    </tr>\n",
              "    <tr>\n",
              "      <th>2</th>\n",
              "      <td>9</td>\n",
              "      <td>Rotterdam</td>\n",
              "    </tr>\n",
              "  </tbody>\n",
              "</table>\n",
              "</div>"
            ],
            "text/plain": [
              "   EmpNr       Dest\n",
              "0      5  The Hague\n",
              "1      3  Amsterdam\n",
              "2      9  Rotterdam"
            ]
          },
          "metadata": {},
          "execution_count": 113
        }
      ]
    },
    {
      "cell_type": "code",
      "metadata": {
        "colab": {
          "base_uri": "https://localhost:8080/",
          "height": 142
        },
        "id": "nuLMia297XAG",
        "outputId": "f8a629ef-170e-4288-dbf4-fc1d78958d0e"
      },
      "source": [
        "tips.head()"
      ],
      "execution_count": 114,
      "outputs": [
        {
          "output_type": "execute_result",
          "data": {
            "text/html": [
              "<div>\n",
              "<style scoped>\n",
              "    .dataframe tbody tr th:only-of-type {\n",
              "        vertical-align: middle;\n",
              "    }\n",
              "\n",
              "    .dataframe tbody tr th {\n",
              "        vertical-align: top;\n",
              "    }\n",
              "\n",
              "    .dataframe thead th {\n",
              "        text-align: right;\n",
              "    }\n",
              "</style>\n",
              "<table border=\"1\" class=\"dataframe\">\n",
              "  <thead>\n",
              "    <tr style=\"text-align: right;\">\n",
              "      <th></th>\n",
              "      <th>EmpNr</th>\n",
              "      <th>Amount</th>\n",
              "    </tr>\n",
              "  </thead>\n",
              "  <tbody>\n",
              "    <tr>\n",
              "      <th>0</th>\n",
              "      <td>5</td>\n",
              "      <td>10.0</td>\n",
              "    </tr>\n",
              "    <tr>\n",
              "      <th>1</th>\n",
              "      <td>9</td>\n",
              "      <td>5.0</td>\n",
              "    </tr>\n",
              "    <tr>\n",
              "      <th>2</th>\n",
              "      <td>7</td>\n",
              "      <td>2.5</td>\n",
              "    </tr>\n",
              "  </tbody>\n",
              "</table>\n",
              "</div>"
            ],
            "text/plain": [
              "   EmpNr  Amount\n",
              "0      5    10.0\n",
              "1      9     5.0\n",
              "2      7     2.5"
            ]
          },
          "metadata": {},
          "execution_count": 114
        }
      ]
    },
    {
      "cell_type": "code",
      "metadata": {
        "colab": {
          "base_uri": "https://localhost:8080/",
          "height": 111
        },
        "id": "hnEp7Jry6jum",
        "outputId": "b832eab8-526c-4ccc-decb-adce80f478e1"
      },
      "source": [
        "# Join DataFrames using Inner Join\n",
        "df_inner = pd.merge(dest, tips, on='EmpNr', how='inner')\n",
        "df_inner.head()"
      ],
      "execution_count": 118,
      "outputs": [
        {
          "output_type": "execute_result",
          "data": {
            "text/html": [
              "<div>\n",
              "<style scoped>\n",
              "    .dataframe tbody tr th:only-of-type {\n",
              "        vertical-align: middle;\n",
              "    }\n",
              "\n",
              "    .dataframe tbody tr th {\n",
              "        vertical-align: top;\n",
              "    }\n",
              "\n",
              "    .dataframe thead th {\n",
              "        text-align: right;\n",
              "    }\n",
              "</style>\n",
              "<table border=\"1\" class=\"dataframe\">\n",
              "  <thead>\n",
              "    <tr style=\"text-align: right;\">\n",
              "      <th></th>\n",
              "      <th>EmpNr</th>\n",
              "      <th>Dest</th>\n",
              "      <th>Amount</th>\n",
              "    </tr>\n",
              "  </thead>\n",
              "  <tbody>\n",
              "    <tr>\n",
              "      <th>0</th>\n",
              "      <td>5</td>\n",
              "      <td>The Hague</td>\n",
              "      <td>10.0</td>\n",
              "    </tr>\n",
              "    <tr>\n",
              "      <th>1</th>\n",
              "      <td>9</td>\n",
              "      <td>Rotterdam</td>\n",
              "      <td>5.0</td>\n",
              "    </tr>\n",
              "  </tbody>\n",
              "</table>\n",
              "</div>"
            ],
            "text/plain": [
              "   EmpNr       Dest  Amount\n",
              "0      5  The Hague    10.0\n",
              "1      9  Rotterdam     5.0"
            ]
          },
          "metadata": {},
          "execution_count": 118
        }
      ]
    },
    {
      "cell_type": "code",
      "metadata": {
        "colab": {
          "base_uri": "https://localhost:8080/",
          "height": 173
        },
        "id": "Bwosa9c963N5",
        "outputId": "4f0707c1-e9fa-4bc8-a3c0-9429835064d2"
      },
      "source": [
        "# Join DataFrames using Outer Join\n",
        "df_inner = pd.merge(dest, tips, on='EmpNr', how='outer')\n",
        "df_inner.head()"
      ],
      "execution_count": 119,
      "outputs": [
        {
          "output_type": "execute_result",
          "data": {
            "text/html": [
              "<div>\n",
              "<style scoped>\n",
              "    .dataframe tbody tr th:only-of-type {\n",
              "        vertical-align: middle;\n",
              "    }\n",
              "\n",
              "    .dataframe tbody tr th {\n",
              "        vertical-align: top;\n",
              "    }\n",
              "\n",
              "    .dataframe thead th {\n",
              "        text-align: right;\n",
              "    }\n",
              "</style>\n",
              "<table border=\"1\" class=\"dataframe\">\n",
              "  <thead>\n",
              "    <tr style=\"text-align: right;\">\n",
              "      <th></th>\n",
              "      <th>EmpNr</th>\n",
              "      <th>Dest</th>\n",
              "      <th>Amount</th>\n",
              "    </tr>\n",
              "  </thead>\n",
              "  <tbody>\n",
              "    <tr>\n",
              "      <th>0</th>\n",
              "      <td>5</td>\n",
              "      <td>The Hague</td>\n",
              "      <td>10.0</td>\n",
              "    </tr>\n",
              "    <tr>\n",
              "      <th>1</th>\n",
              "      <td>3</td>\n",
              "      <td>Amsterdam</td>\n",
              "      <td>NaN</td>\n",
              "    </tr>\n",
              "    <tr>\n",
              "      <th>2</th>\n",
              "      <td>9</td>\n",
              "      <td>Rotterdam</td>\n",
              "      <td>5.0</td>\n",
              "    </tr>\n",
              "    <tr>\n",
              "      <th>3</th>\n",
              "      <td>7</td>\n",
              "      <td>NaN</td>\n",
              "      <td>2.5</td>\n",
              "    </tr>\n",
              "  </tbody>\n",
              "</table>\n",
              "</div>"
            ],
            "text/plain": [
              "   EmpNr       Dest  Amount\n",
              "0      5  The Hague    10.0\n",
              "1      3  Amsterdam     NaN\n",
              "2      9  Rotterdam     5.0\n",
              "3      7        NaN     2.5"
            ]
          },
          "metadata": {},
          "execution_count": 119
        }
      ]
    },
    {
      "cell_type": "code",
      "metadata": {
        "colab": {
          "base_uri": "https://localhost:8080/",
          "height": 142
        },
        "id": "gj0mkpmg8OCA",
        "outputId": "50db2916-c20b-4f6c-9446-4fe1c0e25c5a"
      },
      "source": [
        "# Join DataFrames using Right Outer Join\n",
        "df_inner = pd.merge(dest, tips, on='EmpNr', how='right')\n",
        "df_inner.head()"
      ],
      "execution_count": 120,
      "outputs": [
        {
          "output_type": "execute_result",
          "data": {
            "text/html": [
              "<div>\n",
              "<style scoped>\n",
              "    .dataframe tbody tr th:only-of-type {\n",
              "        vertical-align: middle;\n",
              "    }\n",
              "\n",
              "    .dataframe tbody tr th {\n",
              "        vertical-align: top;\n",
              "    }\n",
              "\n",
              "    .dataframe thead th {\n",
              "        text-align: right;\n",
              "    }\n",
              "</style>\n",
              "<table border=\"1\" class=\"dataframe\">\n",
              "  <thead>\n",
              "    <tr style=\"text-align: right;\">\n",
              "      <th></th>\n",
              "      <th>EmpNr</th>\n",
              "      <th>Dest</th>\n",
              "      <th>Amount</th>\n",
              "    </tr>\n",
              "  </thead>\n",
              "  <tbody>\n",
              "    <tr>\n",
              "      <th>0</th>\n",
              "      <td>5</td>\n",
              "      <td>The Hague</td>\n",
              "      <td>10.0</td>\n",
              "    </tr>\n",
              "    <tr>\n",
              "      <th>1</th>\n",
              "      <td>9</td>\n",
              "      <td>Rotterdam</td>\n",
              "      <td>5.0</td>\n",
              "    </tr>\n",
              "    <tr>\n",
              "      <th>2</th>\n",
              "      <td>7</td>\n",
              "      <td>NaN</td>\n",
              "      <td>2.5</td>\n",
              "    </tr>\n",
              "  </tbody>\n",
              "</table>\n",
              "</div>"
            ],
            "text/plain": [
              "   EmpNr       Dest  Amount\n",
              "0      5  The Hague    10.0\n",
              "1      9  Rotterdam     5.0\n",
              "2      7        NaN     2.5"
            ]
          },
          "metadata": {},
          "execution_count": 120
        }
      ]
    },
    {
      "cell_type": "markdown",
      "metadata": {
        "id": "Gr4RCDeJ8nu2"
      },
      "source": [
        "## Count Missing Values"
      ]
    },
    {
      "cell_type": "code",
      "metadata": {
        "colab": {
          "base_uri": "https://localhost:8080/",
          "height": 453
        },
        "id": "Sn2pvUB8_u_G",
        "outputId": "c94bd383-b1a8-433e-eece-b2f2149a8f4a"
      },
      "source": [
        "df.isnull()"
      ],
      "execution_count": 126,
      "outputs": [
        {
          "output_type": "execute_result",
          "data": {
            "text/html": [
              "<div>\n",
              "<style scoped>\n",
              "    .dataframe tbody tr th:only-of-type {\n",
              "        vertical-align: middle;\n",
              "    }\n",
              "\n",
              "    .dataframe tbody tr th {\n",
              "        vertical-align: top;\n",
              "    }\n",
              "\n",
              "    .dataframe thead th {\n",
              "        text-align: right;\n",
              "    }\n",
              "</style>\n",
              "<table border=\"1\" class=\"dataframe\">\n",
              "  <thead>\n",
              "    <tr style=\"text-align: right;\">\n",
              "      <th></th>\n",
              "      <th>Country</th>\n",
              "      <th>CountryID</th>\n",
              "      <th>Continent</th>\n",
              "      <th>Adolescent fertility rate (%)</th>\n",
              "      <th>Adult literacy rate (%)</th>\n",
              "      <th>Gross national income per capita (PPP international $)</th>\n",
              "      <th>Net primary school enrolment ratio female (%)</th>\n",
              "      <th>Net primary school enrolment ratio male (%)</th>\n",
              "      <th>Population (in thousands) total</th>\n",
              "    </tr>\n",
              "  </thead>\n",
              "  <tbody>\n",
              "    <tr>\n",
              "      <th>1</th>\n",
              "      <td>False</td>\n",
              "      <td>False</td>\n",
              "      <td>False</td>\n",
              "      <td>False</td>\n",
              "      <td>False</td>\n",
              "      <td>False</td>\n",
              "      <td>False</td>\n",
              "      <td>False</td>\n",
              "      <td>False</td>\n",
              "    </tr>\n",
              "    <tr>\n",
              "      <th>2</th>\n",
              "      <td>False</td>\n",
              "      <td>False</td>\n",
              "      <td>False</td>\n",
              "      <td>False</td>\n",
              "      <td>False</td>\n",
              "      <td>False</td>\n",
              "      <td>False</td>\n",
              "      <td>False</td>\n",
              "      <td>False</td>\n",
              "    </tr>\n",
              "    <tr>\n",
              "      <th>4</th>\n",
              "      <td>False</td>\n",
              "      <td>False</td>\n",
              "      <td>False</td>\n",
              "      <td>False</td>\n",
              "      <td>False</td>\n",
              "      <td>False</td>\n",
              "      <td>False</td>\n",
              "      <td>False</td>\n",
              "      <td>False</td>\n",
              "    </tr>\n",
              "    <tr>\n",
              "      <th>6</th>\n",
              "      <td>False</td>\n",
              "      <td>False</td>\n",
              "      <td>False</td>\n",
              "      <td>False</td>\n",
              "      <td>False</td>\n",
              "      <td>False</td>\n",
              "      <td>False</td>\n",
              "      <td>False</td>\n",
              "      <td>False</td>\n",
              "    </tr>\n",
              "    <tr>\n",
              "      <th>7</th>\n",
              "      <td>False</td>\n",
              "      <td>False</td>\n",
              "      <td>False</td>\n",
              "      <td>False</td>\n",
              "      <td>False</td>\n",
              "      <td>False</td>\n",
              "      <td>False</td>\n",
              "      <td>False</td>\n",
              "      <td>False</td>\n",
              "    </tr>\n",
              "    <tr>\n",
              "      <th>...</th>\n",
              "      <td>...</td>\n",
              "      <td>...</td>\n",
              "      <td>...</td>\n",
              "      <td>...</td>\n",
              "      <td>...</td>\n",
              "      <td>...</td>\n",
              "      <td>...</td>\n",
              "      <td>...</td>\n",
              "      <td>...</td>\n",
              "    </tr>\n",
              "    <tr>\n",
              "      <th>195</th>\n",
              "      <td>False</td>\n",
              "      <td>False</td>\n",
              "      <td>False</td>\n",
              "      <td>False</td>\n",
              "      <td>False</td>\n",
              "      <td>False</td>\n",
              "      <td>False</td>\n",
              "      <td>False</td>\n",
              "      <td>False</td>\n",
              "    </tr>\n",
              "    <tr>\n",
              "      <th>196</th>\n",
              "      <td>False</td>\n",
              "      <td>False</td>\n",
              "      <td>False</td>\n",
              "      <td>False</td>\n",
              "      <td>False</td>\n",
              "      <td>False</td>\n",
              "      <td>False</td>\n",
              "      <td>False</td>\n",
              "      <td>False</td>\n",
              "    </tr>\n",
              "    <tr>\n",
              "      <th>197</th>\n",
              "      <td>False</td>\n",
              "      <td>False</td>\n",
              "      <td>False</td>\n",
              "      <td>False</td>\n",
              "      <td>False</td>\n",
              "      <td>False</td>\n",
              "      <td>False</td>\n",
              "      <td>False</td>\n",
              "      <td>False</td>\n",
              "    </tr>\n",
              "    <tr>\n",
              "      <th>199</th>\n",
              "      <td>False</td>\n",
              "      <td>False</td>\n",
              "      <td>False</td>\n",
              "      <td>False</td>\n",
              "      <td>False</td>\n",
              "      <td>False</td>\n",
              "      <td>False</td>\n",
              "      <td>False</td>\n",
              "      <td>False</td>\n",
              "    </tr>\n",
              "    <tr>\n",
              "      <th>200</th>\n",
              "      <td>False</td>\n",
              "      <td>False</td>\n",
              "      <td>False</td>\n",
              "      <td>False</td>\n",
              "      <td>False</td>\n",
              "      <td>False</td>\n",
              "      <td>False</td>\n",
              "      <td>False</td>\n",
              "      <td>False</td>\n",
              "    </tr>\n",
              "  </tbody>\n",
              "</table>\n",
              "<p>118 rows × 9 columns</p>\n",
              "</div>"
            ],
            "text/plain": [
              "     Country  ...  Population (in thousands) total\n",
              "1      False  ...                            False\n",
              "2      False  ...                            False\n",
              "4      False  ...                            False\n",
              "6      False  ...                            False\n",
              "7      False  ...                            False\n",
              "..       ...  ...                              ...\n",
              "195    False  ...                            False\n",
              "196    False  ...                            False\n",
              "197    False  ...                            False\n",
              "199    False  ...                            False\n",
              "200    False  ...                            False\n",
              "\n",
              "[118 rows x 9 columns]"
            ]
          },
          "metadata": {},
          "execution_count": 126
        }
      ]
    },
    {
      "cell_type": "code",
      "metadata": {
        "colab": {
          "base_uri": "https://localhost:8080/"
        },
        "id": "kZcXXRMW9z9C",
        "outputId": "38cb7675-dc32-48c3-cf0c-5b5f937aeac5"
      },
      "source": [
        "# Count missing values in DataFrame\n",
        "df.isnull().sum()"
      ],
      "execution_count": 123,
      "outputs": [
        {
          "output_type": "execute_result",
          "data": {
            "text/plain": [
              "Country                                                    0\n",
              "CountryID                                                  0\n",
              "Continent                                                  0\n",
              "Adolescent fertility rate (%)                             25\n",
              "Adult literacy rate (%)                                   71\n",
              "Gross national income per capita (PPP international $)    24\n",
              "Net primary school enrolment ratio female (%)             23\n",
              "Net primary school enrolment ratio male (%)               23\n",
              "Population (in thousands) total                           13\n",
              "dtype: int64"
            ]
          },
          "metadata": {},
          "execution_count": 123
        }
      ]
    },
    {
      "cell_type": "code",
      "metadata": {
        "colab": {
          "base_uri": "https://localhost:8080/"
        },
        "id": "kvCZVV2i96o4",
        "outputId": "8d9d5c94-61d3-4e1d-f354-28d2e5878aba"
      },
      "source": [
        "df.info()"
      ],
      "execution_count": 124,
      "outputs": [
        {
          "output_type": "stream",
          "name": "stdout",
          "text": [
            "<class 'pandas.core.frame.DataFrame'>\n",
            "RangeIndex: 202 entries, 0 to 201\n",
            "Data columns (total 9 columns):\n",
            " #   Column                                                  Non-Null Count  Dtype  \n",
            "---  ------                                                  --------------  -----  \n",
            " 0   Country                                                 202 non-null    object \n",
            " 1   CountryID                                               202 non-null    int64  \n",
            " 2   Continent                                               202 non-null    int64  \n",
            " 3   Adolescent fertility rate (%)                           177 non-null    float64\n",
            " 4   Adult literacy rate (%)                                 131 non-null    float64\n",
            " 5   Gross national income per capita (PPP international $)  178 non-null    float64\n",
            " 6   Net primary school enrolment ratio female (%)           179 non-null    float64\n",
            " 7   Net primary school enrolment ratio male (%)             179 non-null    float64\n",
            " 8   Population (in thousands) total                         189 non-null    float64\n",
            "dtypes: float64(6), int64(2), object(1)\n",
            "memory usage: 14.3+ KB\n"
          ]
        }
      ]
    },
    {
      "cell_type": "code",
      "metadata": {
        "colab": {
          "base_uri": "https://localhost:8080/"
        },
        "id": "9W1M3H7T-vm8",
        "outputId": "c3eafcfe-1ca2-4863-b7fc-e5203156f40e"
      },
      "source": [
        "# Drop all the missing values\n",
        "df.dropna(inplace=True)\n",
        "df.info()"
      ],
      "execution_count": 128,
      "outputs": [
        {
          "output_type": "stream",
          "name": "stdout",
          "text": [
            "<class 'pandas.core.frame.DataFrame'>\n",
            "Int64Index: 118 entries, 1 to 200\n",
            "Data columns (total 9 columns):\n",
            " #   Column                                                  Non-Null Count  Dtype  \n",
            "---  ------                                                  --------------  -----  \n",
            " 0   Country                                                 118 non-null    object \n",
            " 1   CountryID                                               118 non-null    int64  \n",
            " 2   Continent                                               118 non-null    int64  \n",
            " 3   Adolescent fertility rate (%)                           118 non-null    float64\n",
            " 4   Adult literacy rate (%)                                 118 non-null    float64\n",
            " 5   Gross national income per capita (PPP international $)  118 non-null    float64\n",
            " 6   Net primary school enrolment ratio female (%)           118 non-null    float64\n",
            " 7   Net primary school enrolment ratio male (%)             118 non-null    float64\n",
            " 8   Population (in thousands) total                         118 non-null    float64\n",
            "dtypes: float64(6), int64(2), object(1)\n",
            "memory usage: 9.2+ KB\n"
          ]
        }
      ]
    },
    {
      "cell_type": "code",
      "metadata": {
        "colab": {
          "base_uri": "https://localhost:8080/"
        },
        "id": "IV_5qcVc_oTX",
        "outputId": "8850d9d2-c8c1-4b9b-b35f-ca959051c86a"
      },
      "source": [
        "# Fill missing value with 0\n",
        "df = pd.read_csv(\"Python-Data-Analysis-Third-Edition/Chapter02/WHO_first9cols.csv\")\n",
        "df.fillna(0, inplace=True)\n",
        "df.info()"
      ],
      "execution_count": 130,
      "outputs": [
        {
          "output_type": "stream",
          "name": "stdout",
          "text": [
            "<class 'pandas.core.frame.DataFrame'>\n",
            "RangeIndex: 202 entries, 0 to 201\n",
            "Data columns (total 9 columns):\n",
            " #   Column                                                  Non-Null Count  Dtype  \n",
            "---  ------                                                  --------------  -----  \n",
            " 0   Country                                                 202 non-null    object \n",
            " 1   CountryID                                               202 non-null    int64  \n",
            " 2   Continent                                               202 non-null    int64  \n",
            " 3   Adolescent fertility rate (%)                           202 non-null    float64\n",
            " 4   Adult literacy rate (%)                                 202 non-null    float64\n",
            " 5   Gross national income per capita (PPP international $)  202 non-null    float64\n",
            " 6   Net primary school enrolment ratio female (%)           202 non-null    float64\n",
            " 7   Net primary school enrolment ratio male (%)             202 non-null    float64\n",
            " 8   Population (in thousands) total                         202 non-null    float64\n",
            "dtypes: float64(6), int64(2), object(1)\n",
            "memory usage: 14.3+ KB\n"
          ]
        }
      ]
    },
    {
      "cell_type": "markdown",
      "metadata": {
        "id": "fn0ub6oEAbEc"
      },
      "source": [
        "## Dealing with Dates"
      ]
    },
    {
      "cell_type": "code",
      "metadata": {
        "colab": {
          "base_uri": "https://localhost:8080/"
        },
        "id": "cVYzkatIF9MW",
        "outputId": "59b61262-0830-4eb3-817b-78b498b91dcc"
      },
      "source": [
        "# Date range function\n",
        "pd.date_range('01-01-2000', periods=45, freq='D')"
      ],
      "execution_count": 131,
      "outputs": [
        {
          "output_type": "execute_result",
          "data": {
            "text/plain": [
              "DatetimeIndex(['2000-01-01', '2000-01-02', '2000-01-03', '2000-01-04',\n",
              "               '2000-01-05', '2000-01-06', '2000-01-07', '2000-01-08',\n",
              "               '2000-01-09', '2000-01-10', '2000-01-11', '2000-01-12',\n",
              "               '2000-01-13', '2000-01-14', '2000-01-15', '2000-01-16',\n",
              "               '2000-01-17', '2000-01-18', '2000-01-19', '2000-01-20',\n",
              "               '2000-01-21', '2000-01-22', '2000-01-23', '2000-01-24',\n",
              "               '2000-01-25', '2000-01-26', '2000-01-27', '2000-01-28',\n",
              "               '2000-01-29', '2000-01-30', '2000-01-31', '2000-02-01',\n",
              "               '2000-02-02', '2000-02-03', '2000-02-04', '2000-02-05',\n",
              "               '2000-02-06', '2000-02-07', '2000-02-08', '2000-02-09',\n",
              "               '2000-02-10', '2000-02-11', '2000-02-12', '2000-02-13',\n",
              "               '2000-02-14'],\n",
              "              dtype='datetime64[ns]', freq='D')"
            ]
          },
          "metadata": {},
          "execution_count": 131
        }
      ]
    },
    {
      "cell_type": "code",
      "metadata": {
        "colab": {
          "base_uri": "https://localhost:8080/"
        },
        "id": "lCYyXfvtGJ8j",
        "outputId": "bdb5f3f1-53ec-4a57-9d76-bfabf6138b6a"
      },
      "source": [
        "# Convert argument to datetime\n",
        "pd.to_datetime('1/1/1970')"
      ],
      "execution_count": 132,
      "outputs": [
        {
          "output_type": "execute_result",
          "data": {
            "text/plain": [
              "Timestamp('1970-01-01 00:00:00')"
            ]
          },
          "metadata": {},
          "execution_count": 132
        }
      ]
    },
    {
      "cell_type": "code",
      "metadata": {
        "colab": {
          "base_uri": "https://localhost:8080/"
        },
        "id": "pcgCQ2FBG2Fr",
        "outputId": "a66ad319-2eff-4947-da65-fc9a3259e96b"
      },
      "source": [
        "# Convert argument to datetime in specified format\n",
        "pd.to_datetime(['20200101', '20200102'], format='%Y%m%d')"
      ],
      "execution_count": 134,
      "outputs": [
        {
          "output_type": "execute_result",
          "data": {
            "text/plain": [
              "DatetimeIndex(['2020-01-01', '2020-01-02'], dtype='datetime64[ns]', freq=None)"
            ]
          },
          "metadata": {},
          "execution_count": 134
        }
      ]
    },
    {
      "cell_type": "code",
      "metadata": {
        "colab": {
          "base_uri": "https://localhost:8080/"
        },
        "id": "DpfTafqrHHDo",
        "outputId": "881bdb0f-a977-4832-88ff-287261989823"
      },
      "source": [
        "# Handle value error\n",
        "pd.to_datetime(['20200101', 'not a date'], errors='coerce')"
      ],
      "execution_count": 136,
      "outputs": [
        {
          "output_type": "execute_result",
          "data": {
            "text/plain": [
              "DatetimeIndex(['2020-01-01', 'NaT'], dtype='datetime64[ns]', freq=None)"
            ]
          },
          "metadata": {},
          "execution_count": 136
        }
      ]
    },
    {
      "cell_type": "code",
      "metadata": {
        "id": "fzRRiUWXHya0"
      },
      "source": [
        ""
      ],
      "execution_count": null,
      "outputs": []
    }
  ]
}